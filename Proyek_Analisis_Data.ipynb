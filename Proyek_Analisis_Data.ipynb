{
  "cells": [
    {
      "cell_type": "markdown",
      "metadata": {
        "id": "H9wADwK78DCz"
      },
      "source": [
        "# Proyek Analisis Data: [Input Nama Dataset]\n",
        "- **Nama:** Muhammad Alif Nasrulloh\n",
        "- **Email:** alifnasrulloh.jbg@gmail.com\n",
        "- **ID Dicoding:** malifnasrulloh"
      ]
    },
    {
      "cell_type": "markdown",
      "metadata": {
        "id": "eE0raob58DC0"
      },
      "source": [
        "## Menentukan Pertanyaan Bisnis"
      ]
    },
    {
      "cell_type": "markdown",
      "metadata": {
        "id": "GmQeQ5YF8DC0"
      },
      "source": [
        "- Bagaimana dengan analisis penjualan?\n",
        "- Produk apa yang mempunyai qty terbanyak?\n",
        "- Produk apa yang memiliki penjualan terbanyak?\n",
        "- Bagaimana korelasi antara berat produk dan harga produk?\n",
        "- Metode penjualan apa yang sering dipakai oleh customer?\n",
        "- Negara apa yang memiliki total pembelian/customer terbanyak?"
      ]
    },
    {
      "cell_type": "markdown",
      "metadata": {
        "id": "H-z4QGlO8DC1"
      },
      "source": [
        "## Import Semua Packages/Library yang Digunakan"
      ]
    },
    {
      "cell_type": "code",
      "execution_count": null,
      "metadata": {
        "id": "FVYwaObI8DC1"
      },
      "outputs": [],
      "source": [
        "import pandas as pd\n",
        "import seaborn as sn\n",
        "import locale\n",
        "import streamlit as st\n",
        "import numpy as np\n",
        "import matplotlib.pyplot as plt"
      ]
    },
    {
      "cell_type": "markdown",
      "metadata": {
        "id": "h_Sh51Xy8DC1"
      },
      "source": [
        "\n",
        "\n",
        "```\n",
        "# Ini diformat sebagai kode\n",
        "```\n",
        "\n",
        "## Data Wrangling"
      ]
    },
    {
      "cell_type": "markdown",
      "metadata": {
        "id": "sXU2GBYu8DC1"
      },
      "source": [
        "### Gathering Data"
      ]
    },
    {
      "cell_type": "markdown",
      "metadata": {
        "id": "KwutTj60dN1n"
      },
      "source": [
        "ganti locale ke United States untuk keperluan formatting pada currency"
      ]
    },
    {
      "cell_type": "code",
      "execution_count": null,
      "metadata": {
        "id": "-hyfU-qldMqB"
      },
      "outputs": [],
      "source": [
        "locale.setlocale(locale.LC_ALL,'en_US.UTF-8')"
      ]
    },
    {
      "cell_type": "markdown",
      "metadata": {
        "id": "5dpkB212dFyd"
      },
      "source": [
        "ambil semua data yang diperlukan dari file csv"
      ]
    },
    {
      "cell_type": "code",
      "execution_count": null,
      "metadata": {
        "id": "zjCBk1BI8DC1"
      },
      "outputs": [],
      "source": [
        "customers = pd.read_csv(\"customers_dataset.csv\")\n",
        "sellers = pd.read_csv(\"sellers_dataset.csv\")\n",
        "geolocate = pd.read_csv(\"geolocation_dataset.csv\")\n",
        "order_items = pd.read_csv(\"order_items_dataset.csv\")\n",
        "order_payments = pd.read_csv(\"order_payments_dataset.csv\")\n",
        "orders = pd.read_csv(\"orders_dataset.csv\")\n",
        "product_translation = pd.read_csv(\"product_category_name_translation.csv\")\n",
        "products = pd.read_csv(\"products_dataset.csv\")"
      ]
    },
    {
      "cell_type": "markdown",
      "metadata": {
        "id": "FHSiqaZp8DC1"
      },
      "source": [
        "### Assessing Data"
      ]
    },
    {
      "cell_type": "markdown",
      "metadata": {
        "id": "QPaIwdLecvAZ"
      },
      "source": [
        "Ubah bahasa pada tabel product kolom _product\\_category\\_name_ agar memakai bahasa inggris"
      ]
    },
    {
      "cell_type": "code",
      "execution_count": null,
      "metadata": {
        "id": "ax-3tEjc9Cj1"
      },
      "outputs": [],
      "source": [
        "products = pd.merge(\n",
        "    products, product_translation, how=\"inner\", on=\"product_category_name\"\n",
        ")\n",
        "products.drop(columns=\"product_category_name\", inplace=True)\n",
        "products.rename(\n",
        "    columns={\"product_category_name_english\": \"product_category_name\"}, inplace=True\n",
        ")"
      ]
    },
    {
      "cell_type": "markdown",
      "metadata": {},
      "source": [
        "buat fungsi untuk menghitung korelasi antara 2 data"
      ]
    },
    {
      "cell_type": "markdown",
      "metadata": {},
      "source": [
        "def Pearson_correlation(X,Y):\n",
        "    if len(X)==len(Y):\n",
        "        Sum_xy = sum((X-X.mean())*(Y-Y.mean()))\n",
        "        Sum_x_squared = sum((X-X.mean())**2)\n",
        "        Sum_y_squared = sum((Y-Y.mean())**2)       \n",
        "        corr = Sum_xy / np.sqrt(Sum_x_squared * Sum_y_squared)\n",
        "    return corr"
      ]
    },
    {
      "cell_type": "markdown",
      "metadata": {
        "id": "fSCcs8QYc74n"
      },
      "source": [
        "fungsi untuk mencari item yang banyak terjual"
      ]
    },
    {
      "cell_type": "code",
      "execution_count": null,
      "metadata": {
        "id": "93wA8Ym4c7if"
      },
      "outputs": [],
      "source": [
        "def getMostSoldItems(product_df: pd.DataFrame, order_items_df: pd.DataFrame):\n",
        "    df = pd.merge(product_df, order_items_df, how=\"inner\", on=\"product_id\")\n",
        "    return (\n",
        "        df.groupby(by=[\"product_category_name\"])\n",
        "        .product_category_name.count()\n",
        "        .sort_values(ascending=False)\n",
        "        .head(10)\n",
        "    )"
      ]
    },
    {
      "cell_type": "markdown",
      "metadata": {
        "id": "Vy421nu8dhoW"
      },
      "source": [
        "fungsi untuk mendapatkan total order, pakai parameter deliveredOnly untuk menfilter agar menghitung yang sudah status 'delivered'"
      ]
    },
    {
      "cell_type": "code",
      "execution_count": null,
      "metadata": {
        "id": "ZvO_zPAqdiLq"
      },
      "outputs": [],
      "source": [
        "def getTotalOrder(order_df: pd.DataFrame, deliveredOnly: bool):\n",
        "    return len(\n",
        "        order_df\n",
        "        if deliveredOnly == False\n",
        "        else order_df[order_df.order_status == \"delivered\"]\n",
        "    )"
      ]
    },
    {
      "cell_type": "markdown",
      "metadata": {
        "id": "yIQL981vd4d8"
      },
      "source": [
        "fungsi untuk mencari total income selama penjualan"
      ]
    },
    {
      "cell_type": "code",
      "execution_count": null,
      "metadata": {
        "id": "JaLlTalWd4IF"
      },
      "outputs": [],
      "source": [
        "def getTotalIncome(\n",
        "    order_df: pd.DataFrame, order_item_df: pd.DataFrame, deliveredOnly: bool\n",
        "):\n",
        "    order_df = (\n",
        "        order_df[order_df.order_status == \"delivered\"]\n",
        "        if deliveredOnly == True\n",
        "        else order_df\n",
        "    )\n",
        "    # asumsi saya freight cost dibayar oleh pembeli jadi tidak masuk ke pendapatan\n",
        "    df = pd.merge(order_df, order_item_df, how=\"inner\", on=\"order_id\")\n",
        "    return locale.currency(df.price.sum(), grouping=True)"
      ]
    },
    {
      "cell_type": "markdown",
      "metadata": {
        "id": "5i129pIyeExm"
      },
      "source": [
        "fungsi untuk mencari rata rata banyak item yang terjual setiap per hari"
      ]
    },
    {
      "cell_type": "code",
      "execution_count": null,
      "metadata": {
        "id": "7W3Yyp1veAPA"
      },
      "outputs": [],
      "source": [
        "def getAverageSoldItems(order_df: pd.DataFrame):\n",
        "    return (\n",
        "        order_df.groupby(by=[\"order_purchase_timestamp\"])\n",
        "        .order_purchase_timestamp.value_counts()\n",
        "        .mean()\n",
        "    )"
      ]
    },
    {
      "cell_type": "markdown",
      "metadata": {
        "id": "Sv8gOJp_eM37"
      },
      "source": [
        "fungsi untuk distribute nama produk dengan pembayaran apa yang dipakai"
      ]
    },
    {
      "cell_type": "code",
      "execution_count": null,
      "metadata": {
        "id": "KVOknh3GeNUW"
      },
      "outputs": [],
      "source": [
        "def getProductPaymentDistribute(\n",
        "    product_df: pd.DataFrame,\n",
        "    order_items_df: pd.DataFrame,\n",
        "    order_payments_df: pd.DataFrame,\n",
        "):\n",
        "    df = pd.merge(product_df, order_items_df, how=\"inner\", on=\"product_id\")\n",
        "    df = pd.merge(df, order_payments_df, how=\"inner\", on=\"order_id\")\n",
        "    return df.groupby(by=[\"product_category_name\", \"payment_type\"]).payment_type.count()"
      ]
    },
    {
      "cell_type": "markdown",
      "metadata": {
        "id": "_0sAFPdnec-j"
      },
      "source": [
        "fungsi untuk mencari korelasi antara berat suatu produk denga harga produk itu sendiri"
      ]
    },
    {
      "cell_type": "code",
      "execution_count": null,
      "metadata": {
        "id": "WqI_r9PZeer4"
      },
      "outputs": [],
      "source": [
        "def getCorrelatProduct(product_df: pd.DataFrame, order_items_df: pd.DataFrame):\n",
        "    df = pd.merge(product_df, order_items_df, how=\"inner\", on=\"product_id\")\n",
        "    # kategorikan berdasarkan berat produk dengan rata rata harga yang didapat (top 10 barang terberat)\n",
        "    return (\n",
        "        df.groupby(by=[\"product_weight_g\"])\n",
        "        .agg({\"price\": \"mean\"})\n",
        "        .sort_values(by=[\"product_weight_g\"], ascending=False)\n",
        "        .reset_index()\n",
        "        .head(500)\n",
        "        .to_dict()\n",
        "    )"
      ]
    },
    {
      "cell_type": "markdown",
      "metadata": {
        "id": "X7b70gOGevHN"
      },
      "source": [
        "fungsi membuat dataset baru untuk keperluan rfm nanti"
      ]
    },
    {
      "cell_type": "code",
      "execution_count": null,
      "metadata": {
        "id": "LX1Qa9mmeql_"
      },
      "outputs": [],
      "source": [
        "def createRFM(order_df: pd.DataFrame, order_items_df: pd.DataFrame):\n",
        "    df = pd.merge(order_df, order_items_df, how=\"inner\", on=\"order_id\")\n",
        "    last_purchase = order_df.order_purchase_timestamp.max()\n",
        "    df = (\n",
        "        df.groupby(\"customer_id\")\n",
        "        .agg(\n",
        "            {\n",
        "                \"order_purchase_timestamp\": lambda x: (last_purchase - x).max().days,\n",
        "                \"order_id\": \"count\",\n",
        "                \"price\": \"sum\",\n",
        "            }\n",
        "        )\n",
        "        .reset_index()\n",
        "    )\n",
        "    df.columns = [\"customer_id\", \"recency\", \"frequency\", \"monetary\"]\n",
        "    df.customer_id = df.customer_id.apply(lambda x: x[:5])\n",
        "    return df"
      ]
    },
    {
      "cell_type": "markdown",
      "metadata": {},
      "source": [
        "fungsi untuk mengambil data negara dengan penjualan terbanyak"
      ]
    },
    {
      "cell_type": "code",
      "execution_count": null,
      "metadata": {},
      "outputs": [],
      "source": [
        "def getMostSellestCountries(\n",
        "    order_df: pd.DataFrame, order_items_df: pd.DataFrame, seller_df: pd.DataFrame\n",
        "):\n",
        "    df = pd.merge(\n",
        "        order_df[order_df.order_status != \"canceled\"],\n",
        "        order_items_df,\n",
        "        how=\"inner\",\n",
        "        on=\"order_id\",\n",
        "    )\n",
        "    df = pd.merge(\n",
        "        df,\n",
        "        seller_df,\n",
        "        how=\"inner\",\n",
        "        on=\"seller_id\",\n",
        "    )\n",
        "    return (\n",
        "        df.groupby(by=[\"seller_state\"])\n",
        "        .seller_state.count()\n",
        "        .sort_values(ascending=False)\n",
        "    )"
      ]
    },
    {
      "cell_type": "markdown",
      "metadata": {},
      "source": [
        "lalu buat fungsi untuk mengkategorikan negara pembeli dan negara penjual"
      ]
    },
    {
      "cell_type": "code",
      "execution_count": null,
      "metadata": {},
      "outputs": [],
      "source": [
        "def getCorrelatBuyerSellerLocation(\n",
        "    order_df: pd.DataFrame,\n",
        "    order_items_df: pd.DataFrame,\n",
        "    customer_df: pd.DataFrame,\n",
        "    seller_df: pd.DataFrame,\n",
        "):\n",
        "    df = pd.merge(\n",
        "        order_df,\n",
        "        customer_df[[\"customer_state\", \"customer_id\"]],\n",
        "        how=\"inner\",\n",
        "        on=\"customer_id\",\n",
        "    )\n",
        "    df = pd.merge(\n",
        "        df, order_items_df[[\"order_id\", \"seller_id\"]], how=\"inner\", on=\"order_id\"\n",
        "    )\n",
        "    df = pd.merge(\n",
        "        df, seller_df[[\"seller_id\", \"seller_state\"]], how=\"inner\", on=\"seller_id\"\n",
        "    )\n",
        "\n",
        "    return df[[\"customer_state\", \"seller_state\"]]"
      ]
    },
    {
      "cell_type": "markdown",
      "metadata": {
        "id": "EhN5R4hr8DC1"
      },
      "source": [
        "### Cleaning Data"
      ]
    },
    {
      "cell_type": "markdown",
      "metadata": {},
      "source": [
        "hapus semua data duplikat dengan fungsi _drop\\_duplicates_"
      ]
    },
    {
      "cell_type": "code",
      "execution_count": null,
      "metadata": {
        "id": "--62PwSUe-zd"
      },
      "outputs": [],
      "source": [
        "\n",
        "def clean_data(df: pd.DataFrame):\n",
        "    return df.drop_duplicates()"
      ]
    },
    {
      "cell_type": "markdown",
      "metadata": {},
      "source": [
        "bersihkan semua data dengan fungsi yang baru dibuat"
      ]
    },
    {
      "cell_type": "code",
      "execution_count": null,
      "metadata": {
        "id": "jVnYpprE9Evz"
      },
      "outputs": [],
      "source": [
        "customers = clean_data(pd.read_csv(\"customers_dataset.csv\"))\n",
        "sellers = clean_data(pd.read_csv(\"sellers_dataset.csv\"))\n",
        "order_items = clean_data(pd.read_csv(\"order_items_dataset.csv\"))\n",
        "order_payments = clean_data(pd.read_csv(\"order_payments_dataset.csv\"))\n",
        "orders = clean_data(pd.read_csv(\"orders_dataset.csv\"))\n",
        "product_translation = clean_data(pd.read_csv(\"product_category_name_translation.csv\"))\n",
        "products = clean_data(pd.read_csv(\"products_dataset.csv\"))"
      ]
    },
    {
      "cell_type": "markdown",
      "metadata": {
        "id": "gp-Y6wU38DC1"
      },
      "source": [
        "## Exploratory Data Analysis (EDA)"
      ]
    },
    {
      "cell_type": "markdown",
      "metadata": {
        "id": "MW7WF2kr8DC1"
      },
      "source": [
        "### Explore ..."
      ]
    },
    {
      "cell_type": "markdown",
      "metadata": {
        "id": "N7fsTZuUfVP7"
      },
      "source": [
        "ubah kolom index ke 3 dan seterusnya menjadi dtype datetime"
      ]
    },
    {
      "cell_type": "markdown",
      "metadata": {},
      "source": [
        "ubah kolom ke 3 dan seterusnya dari tabel orders ke tipe datetime"
      ]
    },
    {
      "cell_type": "code",
      "execution_count": null,
      "metadata": {
        "id": "e9CQCZjk8DC2"
      },
      "outputs": [],
      "source": [
        "for i in orders.columns.tolist()[3:]:\n",
        "    orders[i] = pd.to_datetime(orders[i])"
      ]
    },
    {
      "cell_type": "markdown",
      "metadata": {},
      "source": [
        "dapatkan tanggal paling awal dan akhir di semua penjualan"
      ]
    },
    {
      "cell_type": "code",
      "execution_count": null,
      "metadata": {
        "id": "vXdY7Myuf-My"
      },
      "outputs": [],
      "source": [
        "first_date_order = orders.order_purchase_timestamp.min()\n",
        "last_date_order = orders.order_purchase_timestamp.max()"
      ]
    },
    {
      "cell_type": "markdown",
      "metadata": {},
      "source": [
        "buat sidebar untuk memilih range tanggal data yang mau ditampilkan (bisa untuk cek orderan (opsional))"
      ]
    },
    {
      "cell_type": "code",
      "execution_count": null,
      "metadata": {
        "id": "3c6rzEcAgGmy"
      },
      "outputs": [],
      "source": [
        "with st.sidebar:\n",
        "    first_date, last_date = st.date_input(\n",
        "        label=\"Plese select date range\",\n",
        "        value=[first_date_order, last_date_order],\n",
        "        max_value=last_date_order,\n",
        "        min_value=first_date_order,\n",
        "    )\n",
        "    search = st.text_input(\"Check Order ID\")\n",
        "    with st.expander(\"Result: \"):\n",
        "        st.write(orders.loc[search == orders.order_id])"
      ]
    },
    {
      "cell_type": "markdown",
      "metadata": {},
      "source": [
        "filter data order agar hanya tampil sesuai range tanggal"
      ]
    },
    {
      "cell_type": "code",
      "execution_count": null,
      "metadata": {
        "id": "tZZV2ZSQgRgW"
      },
      "outputs": [],
      "source": [
        "filtered_orders = orders[\n",
        "    (orders[\"order_purchase_timestamp\"] >= str(first_date))\n",
        "    & (orders[\"order_purchase_timestamp\"] <= str(last_date))\n",
        "]\n",
        "filtered_orders_items = pd.merge(\n",
        "    order_items, filtered_orders, how=\"inner\", on=\"order_id\"\n",
        ")"
      ]
    },
    {
      "cell_type": "markdown",
      "metadata": {
        "id": "zsyZjqak8DC2"
      },
      "source": [
        "## Visualization & Explanatory Analysis"
      ]
    },
    {
      "cell_type": "markdown",
      "metadata": {},
      "source": [
        "buat header agar bagus"
      ]
    },
    {
      "cell_type": "code",
      "execution_count": null,
      "metadata": {
        "id": "e15mZTrIgeyz"
      },
      "outputs": [],
      "source": [
        "st.header(\"E-Commerce Report\")"
      ]
    },
    {
      "cell_type": "markdown",
      "metadata": {
        "id": "HZxOiQ6n8DC2"
      },
      "source": [
        "### Pertanyaan 1: Bagaimana dengan analisis penjualan?"
      ]
    },
    {
      "cell_type": "code",
      "execution_count": null,
      "metadata": {
        "id": "1swJUdAD8DC2"
      },
      "outputs": [],
      "source": [
        "\n",
        "st.subheader(\"Analisa Penjualan\")\n",
        "col = st.columns(3, gap=\"medium\")\n",
        "\n",
        "with col[0]:\n",
        "    st.metric(label=\"Total Penjualan\", value=getTotalOrder(filtered_orders, False))\n",
        "    st.metric(\n",
        "        label=\"Total Penjualan (Delivered Only)\",\n",
        "        value=getTotalOrder(filtered_orders, True),\n",
        "    )\n",
        "\n",
        "with col[1]:\n",
        "    st.metric(\n",
        "        label=\"Total Pendapatan\",\n",
        "        value=getTotalIncome(filtered_orders, order_items, False),\n",
        "    )\n",
        "    st.metric(\n",
        "        label=\"Total Pendapatan (Delivered Only)\",\n",
        "        value=getTotalIncome(filtered_orders, order_items, True),\n",
        "    )\n",
        "\n",
        "with col[2]:\n",
        "    val = getAverageSoldItems(filtered_orders)\n",
        "    st.metric(label=\"Rata-Rata Barang Terjual Per-Hari\", value=(val))"
      ]
    },
    {
      "cell_type": "markdown",
      "metadata": {
        "id": "DgHI7CiU8DC2"
      },
      "source": [
        "### Pertanyaan 2: Produk apa yang mempunyai qty terbanyak?"
      ]
    },
    {
      "cell_type": "code",
      "execution_count": null,
      "metadata": {},
      "outputs": [],
      "source": [
        "st.subheader(\"Analisa Produk\")"
      ]
    },
    {
      "cell_type": "code",
      "execution_count": null,
      "metadata": {
        "id": "Go0lCsvO8DC2"
      },
      "outputs": [],
      "source": [
        "col = st.columns(2, gap=\"medium\")\n",
        "with col[0]:\n",
        "    st.write(\"Top 10 Product E-Commerce Terbanyak\")\n",
        "\n",
        "    fig, ax = plt.subplots()\n",
        "    product_frequent = (\n",
        "        products.groupby(by=[\"product_category_name\"])\n",
        "        .product_category_name.count()\n",
        "        .head(7)\n",
        "        .to_dict()\n",
        "    )\n",
        "    product_frequent = dict(\n",
        "        sorted(product_frequent.items(), key=lambda x: x[1], reverse=True)\n",
        "    )\n",
        "    plt.pie(\n",
        "        x=product_frequent.values(),\n",
        "        labels=product_frequent.keys(),\n",
        "        autopct=\"%1.1f%%\",\n",
        "        explode=list(\n",
        "            map(\n",
        "                lambda x: 0.2 if x == max(product_frequent.values()) else 0,\n",
        "                product_frequent.values(),\n",
        "            )\n",
        "        ),\n",
        "    )\n",
        "\n",
        "    st.pyplot(fig)"
      ]
    },
    {
      "cell_type": "markdown",
      "metadata": {
        "id": "nN6ufHOLhJDS"
      },
      "source": [
        "### Pertanyaan 3: Produk apa yang memiliki penjualan terbanyak?"
      ]
    },
    {
      "cell_type": "code",
      "execution_count": null,
      "metadata": {
        "id": "qfg5n0dch9G2"
      },
      "outputs": [],
      "source": [
        "with col[1]:\n",
        "    st.write(\"Produk dengan Penjualan Terbanyak\")\n",
        "\n",
        "    fig, ax = plt.subplots()\n",
        "    mostSoldItem = getMostSoldItems(\n",
        "        product_df=products, order_items_df=order_items\n",
        "    ).to_dict()\n",
        "    plt.barh(y=list(mostSoldItem.keys()), width=list(mostSoldItem.values()))\n",
        "    plt.xlabel(\"Total Penjualan\")\n",
        "    st.pyplot(fig)"
      ]
    },
    {
      "cell_type": "markdown",
      "metadata": {
        "id": "rsxcxl2UhvMW"
      },
      "source": [
        "### Pertanyaan 4: Bagaimana korelasi antara berat produk dan harga produk?"
      ]
    },
    {
      "cell_type": "code",
      "execution_count": null,
      "metadata": {
        "id": "g50J50RDhth3"
      },
      "outputs": [],
      "source": [
        "st.write(\"Korelasi Berat Produk dengan Harga Produk\")\n",
        "fig, ax = plt.subplots()\n",
        "data = getCorrelatProduct(products, order_items)\n",
        "sn.scatterplot(x=data[\"product_weight_g\"].values(), y=data[\"price\"].values())\n",
        "plt.xlabel(\"Berat Produk (gram)\")\n",
        "plt.ylabel(\"Harga (USD)\")\n",
        "st.pyplot(fig)"
      ]
    },
    {
      "cell_type": "markdown",
      "metadata": {},
      "source": [
        "### Pertanyaan 5: Metode penjualan apa yang sering dipakai oleh customer?"
      ]
    },
    {
      "cell_type": "code",
      "execution_count": null,
      "metadata": {},
      "outputs": [],
      "source": [
        "st.subheader(\"Analisa Metode Pembayaran\")"
      ]
    },
    {
      "cell_type": "code",
      "execution_count": null,
      "metadata": {},
      "outputs": [],
      "source": [
        "with st.container():\n",
        "\n",
        "    payDistribute = getProductPaymentDistribute(\n",
        "        products, order_items, order_payments\n",
        "    ).to_dict()\n",
        "    method_payment = [\"boleto\", \"credit_card\", \"debit_card\", \"voucher\"]\n",
        "\n",
        "    temp = {}\n",
        "    for k, v in payDistribute.items():\n",
        "        if k[0] in mostSoldItem.keys():\n",
        "            if k[0] not in temp.keys():\n",
        "                temp[k[0]] = {}\n",
        "            temp[k[0]][k[1]] = v\n",
        "\n",
        "    # fill another method with 0\n",
        "    for k, v in temp.items():\n",
        "        for i in method_payment:\n",
        "            if i not in v.keys():\n",
        "                temp[k][i] = 0\n",
        "\n",
        "    barWidth = 0.25\n",
        "    fig, ax = plt.subplots()\n",
        "\n",
        "    boleto = list(map(lambda x: x[\"boleto\"], temp.values()))\n",
        "    credit_card = list(map(lambda x: x[\"credit_card\"], temp.values()))\n",
        "    debit_card = list(map(lambda x: x[\"debit_card\"], temp.values()))\n",
        "    voucher = list(map(lambda x: x[\"voucher\"], temp.values()))\n",
        "\n",
        "    br1 = np.arange(len(boleto))\n",
        "    br2 = [x + barWidth for x in br1]\n",
        "    br3 = [x + barWidth for x in br2]\n",
        "    br4 = [x + barWidth for x in br3]\n",
        "\n",
        "    plt.barh(br1, boleto, color=\"r\", height=barWidth, edgecolor=\"grey\", label=\"Boleto\")\n",
        "    plt.barh(\n",
        "        br2,\n",
        "        credit_card,\n",
        "        color=\"g\",\n",
        "        height=barWidth,\n",
        "        edgecolor=\"grey\",\n",
        "        label=\"Credit Card\",\n",
        "    )\n",
        "    plt.barh(\n",
        "        br3,\n",
        "        debit_card,\n",
        "        color=\"b\",\n",
        "        height=barWidth,\n",
        "        edgecolor=\"grey\",\n",
        "        label=\"Debit Card\",\n",
        "    )\n",
        "    plt.barh(\n",
        "        br4,\n",
        "        voucher,\n",
        "        color=\"hotpink\",\n",
        "        height=barWidth,\n",
        "        edgecolor=\"grey\",\n",
        "        label=\"Voucher\",\n",
        "    )\n",
        "\n",
        "    plt.ylabel(\"Product Name\")\n",
        "    plt.xlabel(\"Banyak Pemakaian\")\n",
        "    plt.yticks([r + barWidth for r in range(len(boleto))], mostSoldItem.keys())\n",
        "    plt.legend()\n",
        "\n",
        "    st.pyplot(fig)"
      ]
    },
    {
      "cell_type": "markdown",
      "metadata": {},
      "source": [
        "### Pertanyaan 6: Negara Bagian mana yang memiliki total pembelian/customer terbanyak?"
      ]
    },
    {
      "cell_type": "code",
      "execution_count": null,
      "metadata": {},
      "outputs": [],
      "source": [
        "st.subheader(\"Geolocate Analysis\")"
      ]
    },
    {
      "cell_type": "code",
      "execution_count": null,
      "metadata": {},
      "outputs": [],
      "source": [
        "data = getMostSellestCountries(orders, order_items, sellers).to_dict()\n",
        "list_state = [f\"{k} ({v} Pembelian)\" for k, v in data.items()]\n",
        "\n",
        "st.write(\"Negara Bagian dengan Penjualan Produk Terbanyak\")\n",
        "data = (\n",
        "    getCorrelatBuyerSellerLocation(orders, order_items, customers, sellers)\n",
        "    .groupby(by=[\"seller_state\"])\n",
        "    .value_counts()\n",
        "    .to_dict()\n",
        ")\n",
        "temp = {}\n",
        "for k, v in data.items():\n",
        "    if k[0] not in temp.keys():\n",
        "        temp[k[0]] = {}\n",
        "    temp[k[0]][k[1]] = v\n",
        "\n",
        "seller_state_option = st.selectbox(label=\"Negara Penjual\", options=list_state)\n",
        "\n",
        "if seller_state_option != None:\n",
        "    with st.container():\n",
        "        fig, ax = plt.subplots(nrows=1, ncols=1)\n",
        "        plt.bar(\n",
        "            x=temp[seller_state_option.split(\" \")[0]].keys(),\n",
        "            height=temp[seller_state_option.split(\" \")[0]].values(),\n",
        "        )\n",
        "        ax.set_xlabel(\"Negara Pembeli\")\n",
        "        ax.set_ylabel(\"Total Pembelian\")\n",
        "        ax.set_title(\"Distribusi Negara Penjual dengan Negara Pembeli\")\n",
        "        plt.xticks(rotation=60)\n",
        "        st.pyplot(fig)"
      ]
    },
    {
      "cell_type": "markdown",
      "metadata": {
        "id": "_WeHlCeX8DC2"
      },
      "source": [
        "## Conclusion"
      ]
    },
    {
      "cell_type": "markdown",
      "metadata": {
        "id": "ZTcyR48Y8DC2"
      },
      "source": [
        "- Bagaimana dengan analisis penjualan?\n",
        "    - Data terlampir pada grafik di web\n",
        "- Produk apa yang mempunyai qty terbanyak?\n",
        "    - Bed Bath Table\n",
        "- Produk apa yang memiliki penjualan terbanyak?\n",
        "    - Bed Bath Table\n",
        "- Bagaimana korelasi antara berat produk dan harga produk?\n",
        "    - Dari perhitungan korelasi menggunakan metode 'Pearson' didapatkan 0.22522480714380336 yang mana berarti termasuk _Positive Correlation_ atau memiliki korelasi cukup bersesuaian\n",
        "- Metode penjualan apa yang sering dipakai oleh customer?\n",
        "    - Credit Card\n",
        "- Negara apa yang memiliki total pembelian/customer terbanyak?\n",
        "    - SP (São Paulo)"
      ]
    },
    {
      "cell_type": "markdown",
      "metadata": {
        "id": "g82H4kQ4i0QB"
      },
      "source": [
        "# RFM Analysis\n",
        "\n"
      ]
    },
    {
      "cell_type": "code",
      "execution_count": null,
      "metadata": {},
      "outputs": [],
      "source": [
        "st.subheader(\"RFM Analysis\")"
      ]
    },
    {
      "cell_type": "code",
      "execution_count": null,
      "metadata": {
        "id": "tik2ZrYqi5L2"
      },
      "outputs": [],
      "source": [
        "rfm_df = createRFM(orders, order_items)\n",
        "\n",
        "col = st.columns(3, gap=\"large\")\n",
        "\n",
        "with col[0]:\n",
        "    fig, ax = plt.subplots(nrows=1, ncols=1)\n",
        "    avg_recency = round(rfm_df.recency.mean(), 2)\n",
        "    st.metric(\"Avg Ketepatan Waktu Pembelian\", value=avg_recency)\n",
        "    data = rfm_df.sort_values(by=\"recency\").reset_index().head(10)\n",
        "    plt.bar(x=data.customer_id, height=data.recency)\n",
        "    ax.set_xlabel(\"Customer ID\")\n",
        "    ax.set_ylabel(\"Recency\")\n",
        "    ax.set_title(\"Recency Distribution\")\n",
        "    st.pyplot(fig)\n",
        "\n",
        "with col[1]:\n",
        "    fig, ax = plt.subplots(nrows=1, ncols=1)\n",
        "    avg_frequency = round(rfm_df.frequency.mean(), 2)\n",
        "    st.metric(\"Avg Frekuensi Pembelian\", value=avg_frequency)\n",
        "    data = rfm_df.sort_values(by=\"frequency\", ascending=False).reset_index().head(10)\n",
        "    plt.bar(x=data.customer_id, height=data.frequency)\n",
        "    ax.set_xlabel(\"Customer ID\")\n",
        "    ax.set_ylabel(\"Frequency\")\n",
        "    ax.set_title(\"Frequency Distribution\")\n",
        "    st.pyplot(fig)\n",
        "\n",
        "with col[2]:\n",
        "    fig, ax = plt.subplots(nrows=1, ncols=1)\n",
        "    avg_moneter = locale.currency(round(rfm_df.monetary.mean()), grouping=True)\n",
        "    st.metric(\"Avg Moneter Pembelian\", value=avg_moneter)\n",
        "    data = rfm_df.sort_values(by=\"monetary\", ascending=False).reset_index().head(10)\n",
        "    plt.bar(x=data.customer_id, height=data.monetary)\n",
        "    ax.set_xlabel(\"Customer ID\")\n",
        "    ax.set_ylabel(\"Monetary\")\n",
        "    ax.set_title(\"Monetary Distribution\")\n",
        "    st.pyplot(fig)\n",
        "\n",
        "# formula from gfg source\n",
        "rfm_df[\"R_rank\"] = rfm_df.recency.rank(ascending=False)\n",
        "rfm_df[\"F_rank\"] = rfm_df.frequency.rank(ascending=True)\n",
        "rfm_df[\"M_rank\"] = rfm_df.monetary.rank(ascending=True)\n",
        "\n",
        "rfm_df[\"R_rank_norm\"] = (rfm_df[\"R_rank\"] / rfm_df[\"R_rank\"].max()) * 100\n",
        "rfm_df[\"F_rank_norm\"] = (rfm_df[\"F_rank\"] / rfm_df[\"F_rank\"].max()) * 100\n",
        "rfm_df[\"M_rank_norm\"] = (rfm_df[\"F_rank\"] / rfm_df[\"M_rank\"].max()) * 100\n",
        "\n",
        "rfm_df.drop(columns=[\"R_rank\", \"F_rank\", \"M_rank\"], inplace=True)\n",
        "\n",
        "rfm_df[\"RFM_Score\"] = (\n",
        "    0.15 * rfm_df[\"R_rank_norm\"]\n",
        "    + 0.28 * rfm_df[\"F_rank_norm\"]\n",
        "    + 0.57 * rfm_df[\"M_rank_norm\"]\n",
        ")\n",
        "rfm_df[\"RFM_Score\"] *= 0.05\n",
        "rfm_df = rfm_df.round(2).sort_values(by=\"RFM_Score\", ascending=False).reset_index()\n",
        "\n",
        "st.write(\"Top 10 Highest RFM Score\")\n",
        "st.write(rfm_df[[\"customer_id\", \"RFM_Score\"]].head(10).transpose())"
      ]
    }
  ],
  "metadata": {
    "colab": {
      "provenance": []
    },
    "kernelspec": {
      "display_name": "Python 3",
      "language": "python",
      "name": "python3"
    },
    "language_info": {
      "name": "python",
      "version": "3.8.0 (tags/v3.8.0:fa919fd, Oct 14 2019, 19:21:23) [MSC v.1916 32 bit (Intel)]"
    },
    "orig_nbformat": 4,
    "vscode": {
      "interpreter": {
        "hash": "972b3bf27e332e87b5379f2791f6ef9dfc79c71018c370b0d7423235e20fe4d7"
      }
    }
  },
  "nbformat": 4,
  "nbformat_minor": 0
}
