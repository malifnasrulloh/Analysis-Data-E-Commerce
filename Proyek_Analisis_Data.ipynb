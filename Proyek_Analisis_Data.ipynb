{
  "cells": [
    {
      "cell_type": "markdown",
      "metadata": {
        "id": "H9wADwK78DCz"
      },
      "source": [
        "# Proyek Analisis Data: [Input Nama Dataset]\n",
        "- **Nama:** Muhammad Alif Nasrulloh\n",
        "- **Email:** alifnasrulloh.jbg@gmail.com\n",
        "- **ID Dicoding:** malifnasrulloh"
      ]
    },
    {
      "cell_type": "markdown",
      "metadata": {
        "id": "eE0raob58DC0"
      },
      "source": [
        "## Menentukan Pertanyaan Bisnis"
      ]
    },
    {
      "cell_type": "markdown",
      "metadata": {
        "id": "GmQeQ5YF8DC0"
      },
      "source": [
        "- Produk apa yang memiliki penjualan terbanyak?\n",
        "- Apakah ada korelasi antara berat produk dan harga produk?\n",
        "- Metode penjualan apa yang sering dipakai oleh customer?\n",
        "- Bagaimana tentang analisa penjualan?\n"
      ]
    },
    {
      "cell_type": "markdown",
      "metadata": {
        "id": "H-z4QGlO8DC1"
      },
      "source": [
        "## Import Semua Packages/Library yang Digunakan"
      ]
    },
    {
      "cell_type": "code",
      "execution_count": null,
      "metadata": {
        "id": "FVYwaObI8DC1"
      },
      "outputs": [],
      "source": [
        "import pandas as pd\n",
        "import seaborn as sn\n",
        "import locale\n",
        "import streamlit as st\n",
        "import numpy as np\n",
        "import matplotlib.pyplot as plt"
      ]
    },
    {
      "cell_type": "markdown",
      "metadata": {
        "id": "h_Sh51Xy8DC1"
      },
      "source": [
        "\n",
        "\n",
        "```\n",
        "# Ini diformat sebagai kode\n",
        "```\n",
        "\n",
        "## Data Wrangling"
      ]
    },
    {
      "cell_type": "markdown",
      "metadata": {
        "id": "sXU2GBYu8DC1"
      },
      "source": [
        "### Gathering Data"
      ]
    },
    {
      "cell_type": "markdown",
      "source": [
        "ganti locale ke United States untuk keperluan formatting pada currency"
      ],
      "metadata": {
        "id": "KwutTj60dN1n"
      }
    },
    {
      "cell_type": "code",
      "source": [
        "locale.setlocale(locale.LC_ALL,'en_US.UTF-8')"
      ],
      "metadata": {
        "id": "-hyfU-qldMqB"
      },
      "execution_count": null,
      "outputs": []
    },
    {
      "cell_type": "markdown",
      "source": [
        "ambil semua data yang diperlukan dari file csv"
      ],
      "metadata": {
        "id": "5dpkB212dFyd"
      }
    },
    {
      "cell_type": "code",
      "execution_count": null,
      "metadata": {
        "id": "zjCBk1BI8DC1"
      },
      "outputs": [],
      "source": [
        "customers = pd.read_csv(\"customers_dataset.csv\")\n",
        "order_items = pd.read_csv(\"order_items_dataset.csv\")\n",
        "order_payments = pd.read_csv(\"order_payments_dataset.csv\")\n",
        "orders = pd.read_csv(\"orders_dataset.csv\")\n",
        "product_translation = pd.read_csv(\"product_category_name_translation.csv\")\n",
        "products = pd.read_csv(\"products_dataset.csv\")"
      ]
    },
    {
      "cell_type": "markdown",
      "metadata": {
        "id": "FHSiqaZp8DC1"
      },
      "source": [
        "### Assessing Data"
      ]
    },
    {
      "cell_type": "markdown",
      "source": [
        "Ubah bahasa pada tabel product kolom product_category_name agar memakai bahasa inggris"
      ],
      "metadata": {
        "id": "QPaIwdLecvAZ"
      }
    },
    {
      "cell_type": "code",
      "source": [
        "#set translation\n",
        "products = pd.merge(products, product_translation, how='inner', on='product_category_name')\n",
        "products.drop(columns=\"product_category_name\", inplace=True)\n",
        "products.rename(columns={\"product_category_name_english\":\"product_category_name\"}, inplace=True)"
      ],
      "metadata": {
        "id": "ax-3tEjc9Cj1"
      },
      "execution_count": null,
      "outputs": []
    },
    {
      "cell_type": "markdown",
      "source": [
        "fungsi untuk mencari item yang banyak terjual"
      ],
      "metadata": {
        "id": "fSCcs8QYc74n"
      }
    },
    {
      "cell_type": "code",
      "source": [
        "def getMostSoldItems(product_df: pd.DataFrame, order_items_df:pd.DataFrame):\n",
        "    df = pd.merge(product_df, order_items_df, how='inner', on='product_id')\n",
        "    return df.groupby(by=['product_category_name']).product_category_name.count().sort_values().head(10)"
      ],
      "metadata": {
        "id": "93wA8Ym4c7if"
      },
      "execution_count": null,
      "outputs": []
    },
    {
      "cell_type": "markdown",
      "source": [
        "fungsi untuk mendapatkan total order, pakai parameter deliveredOnly untuk menfilter agar menghitung yang sudah status 'delivered'"
      ],
      "metadata": {
        "id": "Vy421nu8dhoW"
      }
    },
    {
      "cell_type": "code",
      "source": [
        "def getTotalOrder(order_df:pd.DataFrame, deliveredOnly:bool):\n",
        "    return len(order_df if deliveredOnly == False else order_df[order_df.order_status == 'delivered'])"
      ],
      "metadata": {
        "id": "ZvO_zPAqdiLq"
      },
      "execution_count": null,
      "outputs": []
    },
    {
      "cell_type": "markdown",
      "source": [
        "fungsi untuk mencari total income selama penjualan"
      ],
      "metadata": {
        "id": "yIQL981vd4d8"
      }
    },
    {
      "cell_type": "code",
      "source": [
        "def getTotalIncome(order_df:pd.DataFrame, order_item_df:pd.DataFrame, deliveredOnly:bool):\n",
        "    order_df = order_df[order_df.order_status == 'delivered'] if deliveredOnly == True else order_df\n",
        "    #asumsi saya freight cost dibayar oleh pembeli jadi tidak masuk ke pendapatan\n",
        "    df = pd.merge(order_df, order_item_df, how='inner',on='order_id')\n",
        "    return locale.currency(df.price.sum(), grouping=True)"
      ],
      "metadata": {
        "id": "JaLlTalWd4IF"
      },
      "execution_count": null,
      "outputs": []
    },
    {
      "cell_type": "markdown",
      "source": [
        "fungsi untuk mencari rata rata banyak item yang terjual setiap per hari"
      ],
      "metadata": {
        "id": "5i129pIyeExm"
      }
    },
    {
      "cell_type": "code",
      "source": [
        "def getAverageSoldItems(order_df:pd.DataFrame):\n",
        "    return order_df.groupby(by=['order_purchase_timestamp']).order_purchase_timestamp.value_counts().mean()"
      ],
      "metadata": {
        "id": "7W3Yyp1veAPA"
      },
      "execution_count": null,
      "outputs": []
    },
    {
      "cell_type": "markdown",
      "source": [
        "fungsi untuk distribute nama produk dengan pembayaran apa yang dipakai"
      ],
      "metadata": {
        "id": "Sv8gOJp_eM37"
      }
    },
    {
      "cell_type": "code",
      "source": [
        "def getProductPaymentDistribute(product_df:pd.DataFrame, order_items_df:pd.DataFrame, order_payments_df:pd.DataFrame):\n",
        "    df = pd.merge(product_df, order_items_df, how='inner', on='product_id')\n",
        "    df = pd.merge(df, order_payments_df, how='inner',on='order_id')\n",
        "    return df.groupby(by=['product_category_name', 'payment_type']).payment_type.count()"
      ],
      "metadata": {
        "id": "KVOknh3GeNUW"
      },
      "execution_count": null,
      "outputs": []
    },
    {
      "cell_type": "markdown",
      "source": [
        "fungsi untuk mencari korelasi antara berat suatu produk denga harga produk itu sendiri"
      ],
      "metadata": {
        "id": "_0sAFPdnec-j"
      }
    },
    {
      "cell_type": "code",
      "source": [
        "def getCorrelatProduct(product_df:pd.DataFrame, order_items_df:pd.DataFrame):\n",
        "    df = pd.merge(product_df, order_items_df, how='inner', on='product_id')\n",
        "    #kategorikan berdasarkan berat produk dengan rata rata harga yang didapat (top 10 barang terberat)\n",
        "    return df.groupby(by=['product_weight_g']).agg({'price':'mean'}).sort_values(by=['product_weight_g'],ascending=False).head(10).to_dict()\n"
      ],
      "metadata": {
        "id": "WqI_r9PZeer4"
      },
      "execution_count": null,
      "outputs": []
    },
    {
      "cell_type": "markdown",
      "source": [
        "fungsi membuat dataset baru untuk keperluan rfm nanti"
      ],
      "metadata": {
        "id": "X7b70gOGevHN"
      }
    },
    {
      "cell_type": "code",
      "source": [
        "def createRFM(order_df:pd.DataFrame, order_items_df:pd.DataFrame):\n",
        "    df = pd.merge(order_df, order_items_df, how='inner',on='order_id')\n",
        "    df = df.groupby('customer_id_x').agg({\n",
        "    'order_purchase_timestamp_x': lambda x: (max(order_df['order_purchase_timestamp'])+pd.DateOffset(1) - x.max()).days,\n",
        "    'order_id': 'count',\n",
        "    'price': 'sum'\n",
        "    }).reset_index()\n",
        "    df.columns = ['customer_id', 'recency', 'frequency', 'monetary']\n",
        "    print(df)\n",
        "    return df"
      ],
      "metadata": {
        "id": "LX1Qa9mmeql_"
      },
      "execution_count": null,
      "outputs": []
    },
    {
      "cell_type": "markdown",
      "metadata": {
        "id": "EhN5R4hr8DC1"
      },
      "source": [
        "### Cleaning Data"
      ]
    },
    {
      "cell_type": "code",
      "source": [
        "#fungsi untuk drop semua duplicate\n",
        "def clean_data(df: pd.DataFrame):\n",
        "    return df.drop_duplicates()"
      ],
      "metadata": {
        "id": "--62PwSUe-zd"
      },
      "execution_count": null,
      "outputs": []
    },
    {
      "cell_type": "code",
      "source": [
        "customers = clean_data(customers)\n",
        "order_items = clean_data(order_items)\n",
        "order_payments = clean_data(order_payments)\n",
        "orders = clean_data(orders)\n",
        "product_translation = clean_data(product_translation)\n",
        "products = clean_data(products)"
      ],
      "metadata": {
        "id": "jVnYpprE9Evz"
      },
      "execution_count": null,
      "outputs": []
    },
    {
      "cell_type": "markdown",
      "metadata": {
        "id": "gp-Y6wU38DC1"
      },
      "source": [
        "## Exploratory Data Analysis (EDA)"
      ]
    },
    {
      "cell_type": "markdown",
      "metadata": {
        "id": "MW7WF2kr8DC1"
      },
      "source": [
        "### Explore ..."
      ]
    },
    {
      "cell_type": "markdown",
      "source": [
        "ubah kolom index ke 3 dan seterusnya menjadi dtype datetime"
      ],
      "metadata": {
        "id": "N7fsTZuUfVP7"
      }
    },
    {
      "cell_type": "code",
      "execution_count": null,
      "metadata": {
        "id": "e9CQCZjk8DC2"
      },
      "outputs": [],
      "source": [
        "#ubah kolom ke tipe datetime\n",
        "for i in orders.columns.tolist()[3:]:\n",
        "    orders[i] = pd.to_datetime(orders[i])"
      ]
    },
    {
      "cell_type": "code",
      "source": [
        "#untuk mendapatkan tanggal paling awal dan akhir di semua penjualan\n",
        "first_date_order = orders.order_purchase_timestamp.min()\n",
        "last_date_order = orders.order_purchase_timestamp.max()"
      ],
      "metadata": {
        "id": "vXdY7Myuf-My"
      },
      "execution_count": null,
      "outputs": []
    },
    {
      "cell_type": "code",
      "source": [
        "#untuk memilih range tanggal data yang mau ditampilkan\n",
        "with st.sidebar:\n",
        "    first_date, last_date = st.date_input(label='Plese select date range', value=[first_date_order, last_date_order], max_value=last_date_order, min_value=first_date_order)\n",
        "    search = st.text_input(\"Check Order ID\")\n",
        "    with st.expander(\"Result: \"):\n",
        "        st.write(orders.loc[search == orders.order_id])"
      ],
      "metadata": {
        "id": "3c6rzEcAgGmy"
      },
      "execution_count": null,
      "outputs": []
    },
    {
      "cell_type": "code",
      "source": [
        "#filter untuk mneyaring agar hanya tampil sesuai range tanggal\n",
        "filtered_orders = orders[(orders[\"order_purchase_timestamp\"] >= str(first_date)) &  (orders[\"order_purchase_timestamp\"] <= str(last_date))]\n",
        "filtered_orders_items = pd.merge(order_items, filtered_orders, how='inner', on='order_id')"
      ],
      "metadata": {
        "id": "tZZV2ZSQgRgW"
      },
      "execution_count": null,
      "outputs": []
    },
    {
      "cell_type": "markdown",
      "metadata": {
        "id": "zsyZjqak8DC2"
      },
      "source": [
        "## Visualization & Explanatory Analysis"
      ]
    },
    {
      "cell_type": "code",
      "source": [
        "st.header(\"E-Commerce Report\")"
      ],
      "metadata": {
        "id": "e15mZTrIgeyz"
      },
      "execution_count": null,
      "outputs": []
    },
    {
      "cell_type": "markdown",
      "metadata": {
        "id": "HZxOiQ6n8DC2"
      },
      "source": [
        "\n",
        "\n",
        "```\n",
        "# Ini diformat sebagai kode\n",
        "```\n",
        "\n",
        "### Pertanyaan 1:"
      ]
    },
    {
      "cell_type": "code",
      "execution_count": null,
      "metadata": {
        "id": "1swJUdAD8DC2"
      },
      "outputs": [],
      "source": [
        "st.subheader(\"Analisa Produk\")\n",
        "columns = st.columns(2, gap='medium')\n",
        "with columns[0]:\n",
        "    st.text(\"Top 10 Frekuensi Product E-Commerce\")\n",
        "\n",
        "    fig, ax = plt.subplots()\n",
        "    product_frequent = products.groupby(by=[\"product_category_name\"]).product_category_name.count().to_dict()\n",
        "    product_frequent = dict(sorted(product_frequent.items(),key=lambda x: x[1], reverse=True)[:7])\n",
        "    plt.pie(x = product_frequent.values(), labels=product_frequent.keys(), autopct='%1.1f%%', explode=list(map(lambda x: 0.2 if x == max(product_frequent.values()) else 0, product_frequent.values())))\n",
        "\n",
        "    st.pyplot(fig)\n",
        "\n",
        "with columns[1]:\n",
        "    st.text(\"Produk dengan Penjualan Terbanyak\")\n",
        "\n",
        "    fig, ax = plt.subplots()\n",
        "    mostSoldItem = getMostSoldItems(product_df=products, order_items_df=filtered_orders_items).to_dict()\n",
        "    plt.barh(y=list(mostSoldItem.keys()), width=list(mostSoldItem.values()))\n",
        "    st.pyplot(fig)"
      ]
    },
    {
      "cell_type": "markdown",
      "metadata": {
        "id": "DgHI7CiU8DC2"
      },
      "source": [
        "\n",
        "\n",
        "```\n",
        "# Ini diformat sebagai kode\n",
        "```\n",
        "\n",
        "### Pertanyaan 2:"
      ]
    },
    {
      "cell_type": "code",
      "execution_count": null,
      "metadata": {
        "id": "Go0lCsvO8DC2"
      },
      "outputs": [],
      "source": [
        "st.text(\"Korelasi Berat Produk dengan Harga Produk\")\n",
        "fig, ax = plt.subplots()\n",
        "data = getCorrelatProduct(products, order_items)['price']\n",
        "sn.scatterplot(x=data.keys(), y=data.values(), )\n",
        "st.pyplot(fig)"
      ]
    },
    {
      "cell_type": "markdown",
      "source": [
        "\n",
        "\n",
        "```\n",
        "# Ini diformat sebagai kode\n",
        "```\n",
        "\n",
        "### Pertanyaan 3:"
      ],
      "metadata": {
        "id": "nN6ufHOLhJDS"
      }
    },
    {
      "cell_type": "code",
      "source": [
        "st.subheader(\"Analisa Metode Pembayaran\")\n",
        "\n",
        "payDistribute = getProductPaymentDistribute(products,order_items,order_payments).to_dict()\n",
        "method_payment = ['boleto', 'credit_card', 'debit_card', 'voucher']\n",
        "\n",
        "temp = {}\n",
        "for k,v in payDistribute.items():\n",
        "    if k[0] in mostSoldItem.keys():\n",
        "        if k[0] not in temp.keys():\n",
        "            temp[k[0]] = {}\n",
        "        temp[k[0]][k[1]]=v\n",
        "\n",
        "#fill another method with 0\n",
        "for k,v in temp.items():\n",
        "    for i in method_payment:\n",
        "        if i not in v.keys():\n",
        "            temp[k][i] = 0\n",
        "\n",
        "barWidth = 0.25\n",
        "fig,ax = plt.subplots()\n",
        "\n",
        "boleto = list(map(lambda x: x['boleto'],temp.values()))\n",
        "credit_card = list(map(lambda x: x['credit_card'],temp.values()))\n",
        "debit_card = list(map(lambda x: x['debit_card'],temp.values()))\n",
        "voucher = list(map(lambda x: x['voucher'],temp.values()))\n",
        "\n",
        "br1 = np.arange(len(boleto))\n",
        "br2 = [x + barWidth for x in br1]\n",
        "br3 = [x + barWidth for x in br2]\n",
        "br4 = [x + barWidth for x in br3]\n",
        "\n",
        "plt.bar(br1, boleto, color ='r', width = barWidth,\n",
        "        edgecolor ='grey', label ='Boleto')\n",
        "plt.bar(br2, credit_card, color ='g', width = barWidth,\n",
        "        edgecolor ='grey', label ='Credit Card')\n",
        "plt.bar(br3, debit_card, color ='b', width = barWidth,\n",
        "        edgecolor ='grey', label ='Debit Card')\n",
        "plt.bar(br4, voucher, color ='b', width = barWidth,\n",
        "        edgecolor ='grey', label ='Voucher')\n",
        "\n",
        "plt.xlabel('Product Name', fontweight ='bold', fontsize = 15)\n",
        "plt.ylabel('Banyak Pemakaian', fontweight ='bold', fontsize = 15)\n",
        "plt.xticks([r + barWidth for r in range(len(boleto))],\n",
        "        mostSoldItem.keys(), rotation=75)\n",
        "plt.legend()\n",
        "\n",
        "st.pyplot(fig)\n",
        ""
      ],
      "metadata": {
        "id": "qfg5n0dch9G2"
      },
      "execution_count": null,
      "outputs": []
    },
    {
      "cell_type": "markdown",
      "source": [
        "\n",
        "\n",
        "```\n",
        "# Ini diformat sebagai kode\n",
        "```\n",
        "\n",
        "### Pertanyaan 4:"
      ],
      "metadata": {
        "id": "rsxcxl2UhvMW"
      }
    },
    {
      "cell_type": "code",
      "source": [
        "t.subheader(\"Analisa Penjualan\")\n",
        "columns = st.columns(3, gap='medium')\n",
        "with columns[0]:\n",
        "    st.metric(label=\"Total Penjualan\", value=getTotalOrder(filtered_orders, False))\n",
        "    st.metric(label=\"Total Penjualan (Delivered Only)\", value=getTotalOrder(filtered_orders, True))\n",
        "\n",
        "with columns[1]:\n",
        "    st.metric(label=\"Total Pendapatan\", value=getTotalIncome(filtered_orders, order_items, False))\n",
        "    st.metric(label=\"Total Pendapatan (Delivered Only)\", value=getTotalIncome(filtered_orders, order_items, True))\n",
        "\n",
        "with columns[2]:\n",
        "    st.metric(label=\"Rata-Rata Barang Terjual Per-Hari\", value=round(getAverageSoldItems(filtered_orders)))"
      ],
      "metadata": {
        "id": "g50J50RDhth3"
      },
      "execution_count": null,
      "outputs": []
    },
    {
      "cell_type": "markdown",
      "source": [],
      "metadata": {
        "id": "9H-bPP8ahskD"
      }
    },
    {
      "cell_type": "markdown",
      "metadata": {
        "id": "_WeHlCeX8DC2"
      },
      "source": [
        "## Conclusion"
      ]
    },
    {
      "cell_type": "markdown",
      "metadata": {
        "id": "ZTcyR48Y8DC2"
      },
      "source": [
        "- 10 Produk penjualan terbanyak ditampilkan pada gambar\n",
        "- Ada\n",
        "- Credit Card\n",
        "- Lengkapnya sudah ditampilkan di dashboard"
      ]
    },
    {
      "cell_type": "markdown",
      "source": [
        "# RFM Analysis\n",
        "\n"
      ],
      "metadata": {
        "id": "g82H4kQ4i0QB"
      }
    },
    {
      "cell_type": "code",
      "source": [
        "st.subheader(\"Best RFM Analysis\")\n",
        "\n",
        "rfm_df = createRFM(filtered_orders, filtered_orders_items)\n",
        "\n",
        "col1, col2, col3 = st.columns(3)\n",
        "\n",
        "with col1:\n",
        "    avg_recency = round(rfm_df.recency.mean(), 1)\n",
        "    st.metric(\"Rata-Rata Ketepatan Waktu Pembelian\", value=avg_recency)\n",
        "    fig,ax = plt.subplot(1, 3, 1)\n",
        "    plt.hist(rfm_df['recency'], bins=20, color='skyblue', edgecolor='black', alpha=0.7)\n",
        "    plt.title('Recency Distribution')\n",
        "    plt.xlabel('Recency (days)')\n",
        "    plt.ylabel('Number of Customers')\n",
        "    st.pyplot(fig)\n",
        "\n",
        "with col2:\n",
        "    avg_frequency = round(rfm_df.frequency.mean(), 2)\n",
        "    st.metric(\"Rata-Rata Frekuensi Pembelian\", value=avg_frequency)\n",
        "    fig,ax = plt.subplot(1, 3, 2)\n",
        "    plt.hist(rfm_df['frequency'], bins=20, color='salmon', edgecolor='black', alpha=0.7)\n",
        "    plt.title('Frequency Distribution')\n",
        "    plt.xlabel('Frequency')\n",
        "    plt.ylabel('Number of Customers')\n",
        "    st.pyplot(fig)\n",
        "\n",
        "with col3:\n",
        "    avg_moneter = locale.currency(rfm_df.monetary.mean(),grouping=True)\n",
        "    st.metric(\"Rata-Rata Moneter Pembelian\", value=avg_moneter)\n",
        "    fig,ax = plt.subplot(1, 3, 3)\n",
        "    plt.hist(rfm_df['monetary'], bins=20, color='lightgreen', edgecolor='black', alpha=0.7)\n",
        "    plt.title('Monetary Distribution')\n",
        "    plt.xlabel('Monetary')\n",
        "    plt.ylabel('Number of Customers')\n",
        "    st.pyplot(fig)\n"
      ],
      "metadata": {
        "id": "tik2ZrYqi5L2"
      },
      "execution_count": null,
      "outputs": []
    }
  ],
  "metadata": {
    "kernelspec": {
      "display_name": "Python 3",
      "language": "python",
      "name": "python3"
    },
    "language_info": {
      "name": "python",
      "version": "3.8.0 (tags/v3.8.0:fa919fd, Oct 14 2019, 19:21:23) [MSC v.1916 32 bit (Intel)]"
    },
    "orig_nbformat": 4,
    "vscode": {
      "interpreter": {
        "hash": "972b3bf27e332e87b5379f2791f6ef9dfc79c71018c370b0d7423235e20fe4d7"
      }
    },
    "colab": {
      "provenance": []
    }
  },
  "nbformat": 4,
  "nbformat_minor": 0
}