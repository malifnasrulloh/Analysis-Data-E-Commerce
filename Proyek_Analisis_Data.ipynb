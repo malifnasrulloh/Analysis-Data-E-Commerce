{
  "cells": [
    {
      "cell_type": "markdown",
      "metadata": {
        "id": "H9wADwK78DCz"
      },
      "source": [
        "# Proyek Analisis Data: [Input Nama Dataset]\n",
        "- **Nama:** Muhammad Alif Nasrulloh\n",
        "- **Email:** alifnasrulloh.jbg@gmail.com\n",
        "- **ID Dicoding:** malifnasrulloh"
      ]
    },
    {
      "cell_type": "markdown",
      "metadata": {
        "id": "eE0raob58DC0"
      },
      "source": [
        "## Menentukan Pertanyaan Bisnis"
      ]
    },
    {
      "cell_type": "markdown",
      "metadata": {
        "id": "GmQeQ5YF8DC0"
      },
      "source": [
        "- Bagaimana dengan analisis penjualan?\n",
        "- Produk apa yang mempunyai qty terbanyak?\n",
        "- Produk apa yang memiliki penjualan terbanyak?\n",
        "- Bagaimana korelasi antara berat produk dan harga produk?\n",
        "- Metode penjualan apa yang sering dipakai oleh customer?\n",
        "- Bagaimana skor ulasan untuk setiap produk? dan produk apa yang layak menjadi 'best seller' untuk masing-masing kategori?\n",
        "- Bagaimana korelasi antara panjang deskripsi suatu produk terhadap skor ulasannya?\n",
        "- Negara apa yang memiliki total pembelian/customer terbanyak?"
      ]
    },
    {
      "cell_type": "markdown",
      "metadata": {
        "id": "H-z4QGlO8DC1"
      },
      "source": [
        "## Import Semua Packages/Library yang Digunakan"
      ]
    },
    {
      "cell_type": "code",
      "execution_count": 1,
      "metadata": {
        "id": "FVYwaObI8DC1"
      },
      "outputs": [],
      "source": [
        "import pandas as pd\n",
        "import seaborn as sn\n",
        "import locale\n",
        "import streamlit as st\n",
        "import numpy as np\n",
        "import matplotlib.pyplot as plt"
      ]
    },
    {
      "cell_type": "markdown",
      "metadata": {
        "id": "h_Sh51Xy8DC1"
      },
      "source": [
        "\n",
        "\n",
        "```\n",
        "# Ini diformat sebagai kode\n",
        "```\n",
        "\n",
        "## Data Wrangling"
      ]
    },
    {
      "cell_type": "markdown",
      "metadata": {
        "id": "sXU2GBYu8DC1"
      },
      "source": [
        "### Gathering Data"
      ]
    },
    {
      "cell_type": "markdown",
      "metadata": {
        "id": "KwutTj60dN1n"
      },
      "source": [
        "ganti locale ke United States untuk keperluan formatting pada currency"
      ]
    },
    {
      "cell_type": "code",
      "execution_count": 2,
      "metadata": {
        "id": "-hyfU-qldMqB"
      },
      "outputs": [
        {
          "data": {
            "text/plain": [
              "'en_US.UTF-8'"
            ]
          },
          "execution_count": 2,
          "metadata": {},
          "output_type": "execute_result"
        }
      ],
      "source": [
        "locale.setlocale(locale.LC_ALL,'en_US.UTF-8')"
      ]
    },
    {
      "cell_type": "markdown",
      "metadata": {
        "id": "5dpkB212dFyd"
      },
      "source": [
        "ambil semua data yang diperlukan dari file csv"
      ]
    },
    {
      "cell_type": "code",
      "execution_count": 3,
      "metadata": {
        "id": "zjCBk1BI8DC1"
      },
      "outputs": [],
      "source": [
        "customers = pd.read_csv(\"data/customers_dataset.csv\")\n",
        "sellers = pd.read_csv(\"data/sellers_dataset.csv\")\n",
        "geolocate = pd.read_csv(\"data/geolocation_dataset.csv\")\n",
        "order_items = pd.read_csv(\"data/order_items_dataset.csv\")\n",
        "order_payments = pd.read_csv(\"data/order_payments_dataset.csv\")\n",
        "order_reviews = pd.read_csv(\"data/order_reviews_dataset.csv\")\n",
        "orders = pd.read_csv(\"data/orders_dataset.csv\")\n",
        "product_translation = pd.read_csv(\"data/product_category_name_translation.csv\")\n",
        "products = pd.read_csv(\"data/products_dataset.csv\")"
      ]
    },
    {
      "cell_type": "markdown",
      "metadata": {
        "id": "FHSiqaZp8DC1"
      },
      "source": [
        "### Assessing Data"
      ]
    },
    {
      "cell_type": "markdown",
      "metadata": {},
      "source": [
        "buat fungsi untuk menguraikan dict saat output nanti sehingga bisa lebih mudah di akses\n",
        "misal {(\"alip\",5):1,(\"alip\", 4):3} =====> {\"alip\":{5:1, 4:3}}"
      ]
    },
    {
      "cell_type": "code",
      "execution_count": null,
      "metadata": {},
      "outputs": [],
      "source": [
        "def decode_dict(data: dict):\n",
        "    temp = {}\n",
        "    for k, v in data.items():\n",
        "        if k[0] not in temp.keys():\n",
        "            temp[k[0]] = {}\n",
        "        temp[k[0]][k[1]] = v\n",
        "    return temp"
      ]
    },
    {
      "cell_type": "markdown",
      "metadata": {
        "id": "QPaIwdLecvAZ"
      },
      "source": [
        "Ubah bahasa pada tabel product kolom _product\\_category\\_name_ agar memakai bahasa inggris"
      ]
    },
    {
      "cell_type": "code",
      "execution_count": null,
      "metadata": {
        "id": "ax-3tEjc9Cj1"
      },
      "outputs": [],
      "source": [
        "products = pd.merge(\n",
        "    products, product_translation, how=\"inner\", on=\"product_category_name\"\n",
        ")\n",
        "products.drop(columns=\"product_category_name\", inplace=True)\n",
        "products.rename(\n",
        "    columns={\"product_category_name_english\": \"product_category_name\"}, inplace=True\n",
        ")"
      ]
    },
    {
      "cell_type": "markdown",
      "metadata": {},
      "source": [
        "buat fungsi untuk menghitung korelasi antara 2 data"
      ]
    },
    {
      "cell_type": "code",
      "execution_count": null,
      "metadata": {},
      "outputs": [],
      "source": [
        "def Pearson_correlation(X,Y):\n",
        "    if len(X)==len(Y):\n",
        "        Sum_xy = sum((X-X.mean())*(Y-Y.mean()))\n",
        "        Sum_x_squared = sum((X-X.mean())**2)\n",
        "        Sum_y_squared = sum((Y-Y.mean())**2)       \n",
        "        corr = Sum_xy / np.sqrt(Sum_x_squared * Sum_y_squared)\n",
        "    return corr"
      ]
    },
    {
      "cell_type": "markdown",
      "metadata": {
        "id": "fSCcs8QYc74n"
      },
      "source": [
        "fungsi untuk mencari item yang banyak terjual"
      ]
    },
    {
      "cell_type": "code",
      "execution_count": null,
      "metadata": {
        "id": "93wA8Ym4c7if"
      },
      "outputs": [
        {
          "data": {
            "text/html": [
              "<div>\n",
              "<style scoped>\n",
              "    .dataframe tbody tr th:only-of-type {\n",
              "        vertical-align: middle;\n",
              "    }\n",
              "\n",
              "    .dataframe tbody tr th {\n",
              "        vertical-align: top;\n",
              "    }\n",
              "\n",
              "    .dataframe thead th {\n",
              "        text-align: right;\n",
              "    }\n",
              "</style>\n",
              "<table border=\"1\" class=\"dataframe\">\n",
              "  <thead>\n",
              "    <tr style=\"text-align: right;\">\n",
              "      <th></th>\n",
              "      <th>product_category_name</th>\n",
              "      <th>total_sold</th>\n",
              "    </tr>\n",
              "  </thead>\n",
              "  <tbody>\n",
              "    <tr>\n",
              "      <th>0</th>\n",
              "      <td>cama_mesa_banho</td>\n",
              "      <td>11115</td>\n",
              "    </tr>\n",
              "    <tr>\n",
              "      <th>1</th>\n",
              "      <td>beleza_saude</td>\n",
              "      <td>9670</td>\n",
              "    </tr>\n",
              "    <tr>\n",
              "      <th>2</th>\n",
              "      <td>esporte_lazer</td>\n",
              "      <td>8641</td>\n",
              "    </tr>\n",
              "    <tr>\n",
              "      <th>3</th>\n",
              "      <td>moveis_decoracao</td>\n",
              "      <td>8334</td>\n",
              "    </tr>\n",
              "    <tr>\n",
              "      <th>4</th>\n",
              "      <td>informatica_acessorios</td>\n",
              "      <td>7827</td>\n",
              "    </tr>\n",
              "  </tbody>\n",
              "</table>\n",
              "</div>"
            ],
            "text/plain": [
              "    product_category_name  total_sold\n",
              "0         cama_mesa_banho       11115\n",
              "1            beleza_saude        9670\n",
              "2           esporte_lazer        8641\n",
              "3        moveis_decoracao        8334\n",
              "4  informatica_acessorios        7827"
            ]
          },
          "execution_count": 57,
          "metadata": {},
          "output_type": "execute_result"
        }
      ],
      "source": [
        "def getMostSoldItems(product_df: pd.DataFrame, order_items_df: pd.DataFrame,n =5):\n",
        "    df = pd.merge(product_df, order_items_df, how=\"inner\", on=\"product_id\")\n",
        "    \n",
        "    result = df['product_category_name'].value_counts()\n",
        "    return pd.DataFrame(data={\"product_category_name\":result.index, \"total_sold\":result.values}).sort_values(by=\"total_sold\", ascending=False).head(n)\n",
        "getMostSoldItems(product_df=products, order_items_df=order_items)\n",
        "order_payments"
      ]
    },
    {
      "cell_type": "code",
      "execution_count": 61,
      "metadata": {},
      "outputs": [
        {
          "data": {
            "text/plain": [
              "array(['credit_card', 'boleto', 'voucher', 'debit_card'], dtype=object)"
            ]
          },
          "execution_count": 61,
          "metadata": {},
          "output_type": "execute_result"
        }
      ],
      "source": [
        "order_payments.payment_type.unique()[:-1]"
      ]
    },
    {
      "cell_type": "code",
      "execution_count": 7,
      "metadata": {},
      "outputs": [
        {
          "data": {
            "text/html": [
              "<div>\n",
              "<style scoped>\n",
              "    .dataframe tbody tr th:only-of-type {\n",
              "        vertical-align: middle;\n",
              "    }\n",
              "\n",
              "    .dataframe tbody tr th {\n",
              "        vertical-align: top;\n",
              "    }\n",
              "\n",
              "    .dataframe thead th {\n",
              "        text-align: right;\n",
              "    }\n",
              "</style>\n",
              "<table border=\"1\" class=\"dataframe\">\n",
              "  <thead>\n",
              "    <tr style=\"text-align: right;\">\n",
              "      <th></th>\n",
              "      <th>product_id</th>\n",
              "      <th>product_category_name</th>\n",
              "      <th>product_name_lenght</th>\n",
              "      <th>product_description_lenght</th>\n",
              "      <th>product_photos_qty</th>\n",
              "      <th>product_weight_g</th>\n",
              "      <th>product_length_cm</th>\n",
              "      <th>product_height_cm</th>\n",
              "      <th>product_width_cm</th>\n",
              "      <th>order_id</th>\n",
              "      <th>order_item_id</th>\n",
              "      <th>seller_id</th>\n",
              "      <th>shipping_limit_date</th>\n",
              "      <th>price</th>\n",
              "      <th>freight_value</th>\n",
              "    </tr>\n",
              "  </thead>\n",
              "  <tbody>\n",
              "    <tr>\n",
              "      <th>0</th>\n",
              "      <td>1e9e8ef04dbcff4541ed26657ea517e5</td>\n",
              "      <td>perfumaria</td>\n",
              "      <td>40.0</td>\n",
              "      <td>287.0</td>\n",
              "      <td>1.0</td>\n",
              "      <td>225.0</td>\n",
              "      <td>16.0</td>\n",
              "      <td>10.0</td>\n",
              "      <td>14.0</td>\n",
              "      <td>e17e4f88e31525f7deef66779844ddce</td>\n",
              "      <td>1</td>\n",
              "      <td>5670f4db5b62c43d542e1b2d56b0cf7c</td>\n",
              "      <td>2018-04-30 17:33:54</td>\n",
              "      <td>10.91</td>\n",
              "      <td>7.39</td>\n",
              "    </tr>\n",
              "    <tr>\n",
              "      <th>1</th>\n",
              "      <td>3aa071139cb16b67ca9e5dea641aaa2f</td>\n",
              "      <td>artes</td>\n",
              "      <td>44.0</td>\n",
              "      <td>276.0</td>\n",
              "      <td>1.0</td>\n",
              "      <td>1000.0</td>\n",
              "      <td>30.0</td>\n",
              "      <td>18.0</td>\n",
              "      <td>20.0</td>\n",
              "      <td>5236307716393b7114b53ee991f36956</td>\n",
              "      <td>1</td>\n",
              "      <td>b561927807645834b59ef0d16ba55a24</td>\n",
              "      <td>2018-02-06 19:11:15</td>\n",
              "      <td>248.00</td>\n",
              "      <td>17.99</td>\n",
              "    </tr>\n",
              "    <tr>\n",
              "      <th>2</th>\n",
              "      <td>96bd76ec8810374ed1b65e291975717f</td>\n",
              "      <td>esporte_lazer</td>\n",
              "      <td>46.0</td>\n",
              "      <td>250.0</td>\n",
              "      <td>1.0</td>\n",
              "      <td>154.0</td>\n",
              "      <td>18.0</td>\n",
              "      <td>9.0</td>\n",
              "      <td>15.0</td>\n",
              "      <td>01f66e58769f84129811d43eefd187fb</td>\n",
              "      <td>1</td>\n",
              "      <td>7b07b3c7487f0ea825fc6df75abd658b</td>\n",
              "      <td>2018-07-11 21:30:20</td>\n",
              "      <td>79.80</td>\n",
              "      <td>7.82</td>\n",
              "    </tr>\n",
              "    <tr>\n",
              "      <th>3</th>\n",
              "      <td>cef67bcfe19066a932b7673e239eb23d</td>\n",
              "      <td>bebes</td>\n",
              "      <td>27.0</td>\n",
              "      <td>261.0</td>\n",
              "      <td>1.0</td>\n",
              "      <td>371.0</td>\n",
              "      <td>26.0</td>\n",
              "      <td>4.0</td>\n",
              "      <td>26.0</td>\n",
              "      <td>143d00a4f2dde4e0364ee1821577adb3</td>\n",
              "      <td>1</td>\n",
              "      <td>c510bc1718f0f2961eaa42a23330681a</td>\n",
              "      <td>2018-08-07 09:10:13</td>\n",
              "      <td>112.30</td>\n",
              "      <td>9.54</td>\n",
              "    </tr>\n",
              "    <tr>\n",
              "      <th>4</th>\n",
              "      <td>9dc1a7de274444849c219cff195d0b71</td>\n",
              "      <td>utilidades_domesticas</td>\n",
              "      <td>37.0</td>\n",
              "      <td>402.0</td>\n",
              "      <td>4.0</td>\n",
              "      <td>625.0</td>\n",
              "      <td>20.0</td>\n",
              "      <td>17.0</td>\n",
              "      <td>13.0</td>\n",
              "      <td>86cafb8794cb99a9b1b77fc8e48fbbbb</td>\n",
              "      <td>1</td>\n",
              "      <td>0be8ff43f22e456b4e0371b2245e4d01</td>\n",
              "      <td>2018-04-17 01:30:23</td>\n",
              "      <td>37.90</td>\n",
              "      <td>8.29</td>\n",
              "    </tr>\n",
              "    <tr>\n",
              "      <th>...</th>\n",
              "      <td>...</td>\n",
              "      <td>...</td>\n",
              "      <td>...</td>\n",
              "      <td>...</td>\n",
              "      <td>...</td>\n",
              "      <td>...</td>\n",
              "      <td>...</td>\n",
              "      <td>...</td>\n",
              "      <td>...</td>\n",
              "      <td>...</td>\n",
              "      <td>...</td>\n",
              "      <td>...</td>\n",
              "      <td>...</td>\n",
              "      <td>...</td>\n",
              "      <td>...</td>\n",
              "    </tr>\n",
              "    <tr>\n",
              "      <th>112645</th>\n",
              "      <td>83808703fc0706a22e264b9d75f04a2e</td>\n",
              "      <td>informatica_acessorios</td>\n",
              "      <td>60.0</td>\n",
              "      <td>156.0</td>\n",
              "      <td>2.0</td>\n",
              "      <td>700.0</td>\n",
              "      <td>31.0</td>\n",
              "      <td>13.0</td>\n",
              "      <td>20.0</td>\n",
              "      <td>59e88b7d3675e89aceaf86f372d3bc9a</td>\n",
              "      <td>2</td>\n",
              "      <td>4324dd16853115efb0fd9d0d131ba6f4</td>\n",
              "      <td>2018-01-10 03:32:09</td>\n",
              "      <td>29.90</td>\n",
              "      <td>16.11</td>\n",
              "    </tr>\n",
              "    <tr>\n",
              "      <th>112646</th>\n",
              "      <td>83808703fc0706a22e264b9d75f04a2e</td>\n",
              "      <td>informatica_acessorios</td>\n",
              "      <td>60.0</td>\n",
              "      <td>156.0</td>\n",
              "      <td>2.0</td>\n",
              "      <td>700.0</td>\n",
              "      <td>31.0</td>\n",
              "      <td>13.0</td>\n",
              "      <td>20.0</td>\n",
              "      <td>6e4465d771f02e4fe335225de3c6c043</td>\n",
              "      <td>1</td>\n",
              "      <td>4324dd16853115efb0fd9d0d131ba6f4</td>\n",
              "      <td>2018-03-14 02:30:48</td>\n",
              "      <td>29.90</td>\n",
              "      <td>23.28</td>\n",
              "    </tr>\n",
              "    <tr>\n",
              "      <th>112647</th>\n",
              "      <td>83808703fc0706a22e264b9d75f04a2e</td>\n",
              "      <td>informatica_acessorios</td>\n",
              "      <td>60.0</td>\n",
              "      <td>156.0</td>\n",
              "      <td>2.0</td>\n",
              "      <td>700.0</td>\n",
              "      <td>31.0</td>\n",
              "      <td>13.0</td>\n",
              "      <td>20.0</td>\n",
              "      <td>6e4465d771f02e4fe335225de3c6c043</td>\n",
              "      <td>2</td>\n",
              "      <td>4324dd16853115efb0fd9d0d131ba6f4</td>\n",
              "      <td>2018-03-14 02:30:48</td>\n",
              "      <td>29.90</td>\n",
              "      <td>23.28</td>\n",
              "    </tr>\n",
              "    <tr>\n",
              "      <th>112648</th>\n",
              "      <td>83808703fc0706a22e264b9d75f04a2e</td>\n",
              "      <td>informatica_acessorios</td>\n",
              "      <td>60.0</td>\n",
              "      <td>156.0</td>\n",
              "      <td>2.0</td>\n",
              "      <td>700.0</td>\n",
              "      <td>31.0</td>\n",
              "      <td>13.0</td>\n",
              "      <td>20.0</td>\n",
              "      <td>6e4465d771f02e4fe335225de3c6c043</td>\n",
              "      <td>3</td>\n",
              "      <td>4324dd16853115efb0fd9d0d131ba6f4</td>\n",
              "      <td>2018-03-14 02:30:48</td>\n",
              "      <td>29.90</td>\n",
              "      <td>23.28</td>\n",
              "    </tr>\n",
              "    <tr>\n",
              "      <th>112649</th>\n",
              "      <td>106392145fca363410d287a815be6de4</td>\n",
              "      <td>cama_mesa_banho</td>\n",
              "      <td>58.0</td>\n",
              "      <td>309.0</td>\n",
              "      <td>1.0</td>\n",
              "      <td>2083.0</td>\n",
              "      <td>12.0</td>\n",
              "      <td>2.0</td>\n",
              "      <td>7.0</td>\n",
              "      <td>f3a47ba087f05d39a74ed1b653f0be1b</td>\n",
              "      <td>1</td>\n",
              "      <td>4a3ca9315b744ce9f8e9374361493884</td>\n",
              "      <td>2018-07-02 08:30:34</td>\n",
              "      <td>107.50</td>\n",
              "      <td>27.05</td>\n",
              "    </tr>\n",
              "  </tbody>\n",
              "</table>\n",
              "<p>112650 rows × 15 columns</p>\n",
              "</div>"
            ],
            "text/plain": [
              "                              product_id   product_category_name  \\\n",
              "0       1e9e8ef04dbcff4541ed26657ea517e5              perfumaria   \n",
              "1       3aa071139cb16b67ca9e5dea641aaa2f                   artes   \n",
              "2       96bd76ec8810374ed1b65e291975717f           esporte_lazer   \n",
              "3       cef67bcfe19066a932b7673e239eb23d                   bebes   \n",
              "4       9dc1a7de274444849c219cff195d0b71   utilidades_domesticas   \n",
              "...                                  ...                     ...   \n",
              "112645  83808703fc0706a22e264b9d75f04a2e  informatica_acessorios   \n",
              "112646  83808703fc0706a22e264b9d75f04a2e  informatica_acessorios   \n",
              "112647  83808703fc0706a22e264b9d75f04a2e  informatica_acessorios   \n",
              "112648  83808703fc0706a22e264b9d75f04a2e  informatica_acessorios   \n",
              "112649  106392145fca363410d287a815be6de4         cama_mesa_banho   \n",
              "\n",
              "        product_name_lenght  product_description_lenght  product_photos_qty  \\\n",
              "0                      40.0                       287.0                 1.0   \n",
              "1                      44.0                       276.0                 1.0   \n",
              "2                      46.0                       250.0                 1.0   \n",
              "3                      27.0                       261.0                 1.0   \n",
              "4                      37.0                       402.0                 4.0   \n",
              "...                     ...                         ...                 ...   \n",
              "112645                 60.0                       156.0                 2.0   \n",
              "112646                 60.0                       156.0                 2.0   \n",
              "112647                 60.0                       156.0                 2.0   \n",
              "112648                 60.0                       156.0                 2.0   \n",
              "112649                 58.0                       309.0                 1.0   \n",
              "\n",
              "        product_weight_g  product_length_cm  product_height_cm  \\\n",
              "0                  225.0               16.0               10.0   \n",
              "1                 1000.0               30.0               18.0   \n",
              "2                  154.0               18.0                9.0   \n",
              "3                  371.0               26.0                4.0   \n",
              "4                  625.0               20.0               17.0   \n",
              "...                  ...                ...                ...   \n",
              "112645             700.0               31.0               13.0   \n",
              "112646             700.0               31.0               13.0   \n",
              "112647             700.0               31.0               13.0   \n",
              "112648             700.0               31.0               13.0   \n",
              "112649            2083.0               12.0                2.0   \n",
              "\n",
              "        product_width_cm                          order_id  order_item_id  \\\n",
              "0                   14.0  e17e4f88e31525f7deef66779844ddce              1   \n",
              "1                   20.0  5236307716393b7114b53ee991f36956              1   \n",
              "2                   15.0  01f66e58769f84129811d43eefd187fb              1   \n",
              "3                   26.0  143d00a4f2dde4e0364ee1821577adb3              1   \n",
              "4                   13.0  86cafb8794cb99a9b1b77fc8e48fbbbb              1   \n",
              "...                  ...                               ...            ...   \n",
              "112645              20.0  59e88b7d3675e89aceaf86f372d3bc9a              2   \n",
              "112646              20.0  6e4465d771f02e4fe335225de3c6c043              1   \n",
              "112647              20.0  6e4465d771f02e4fe335225de3c6c043              2   \n",
              "112648              20.0  6e4465d771f02e4fe335225de3c6c043              3   \n",
              "112649               7.0  f3a47ba087f05d39a74ed1b653f0be1b              1   \n",
              "\n",
              "                               seller_id  shipping_limit_date   price  \\\n",
              "0       5670f4db5b62c43d542e1b2d56b0cf7c  2018-04-30 17:33:54   10.91   \n",
              "1       b561927807645834b59ef0d16ba55a24  2018-02-06 19:11:15  248.00   \n",
              "2       7b07b3c7487f0ea825fc6df75abd658b  2018-07-11 21:30:20   79.80   \n",
              "3       c510bc1718f0f2961eaa42a23330681a  2018-08-07 09:10:13  112.30   \n",
              "4       0be8ff43f22e456b4e0371b2245e4d01  2018-04-17 01:30:23   37.90   \n",
              "...                                  ...                  ...     ...   \n",
              "112645  4324dd16853115efb0fd9d0d131ba6f4  2018-01-10 03:32:09   29.90   \n",
              "112646  4324dd16853115efb0fd9d0d131ba6f4  2018-03-14 02:30:48   29.90   \n",
              "112647  4324dd16853115efb0fd9d0d131ba6f4  2018-03-14 02:30:48   29.90   \n",
              "112648  4324dd16853115efb0fd9d0d131ba6f4  2018-03-14 02:30:48   29.90   \n",
              "112649  4a3ca9315b744ce9f8e9374361493884  2018-07-02 08:30:34  107.50   \n",
              "\n",
              "        freight_value  \n",
              "0                7.39  \n",
              "1               17.99  \n",
              "2                7.82  \n",
              "3                9.54  \n",
              "4                8.29  \n",
              "...               ...  \n",
              "112645          16.11  \n",
              "112646          23.28  \n",
              "112647          23.28  \n",
              "112648          23.28  \n",
              "112649          27.05  \n",
              "\n",
              "[112650 rows x 15 columns]"
            ]
          },
          "execution_count": 7,
          "metadata": {},
          "output_type": "execute_result"
        }
      ],
      "source": [
        "getMostSoldItems(\n",
        "        product_df=products, order_items_df=order_items\n",
        "    )"
      ]
    },
    {
      "cell_type": "markdown",
      "metadata": {
        "id": "Vy421nu8dhoW"
      },
      "source": [
        "fungsi untuk mendapatkan total order, pakai parameter deliveredOnly untuk menfilter agar menghitung yang sudah status 'delivered'"
      ]
    },
    {
      "cell_type": "code",
      "execution_count": null,
      "metadata": {
        "id": "ZvO_zPAqdiLq"
      },
      "outputs": [],
      "source": [
        "def getTotalOrder(order_df: pd.DataFrame, deliveredOnly: bool):\n",
        "    return len(\n",
        "        order_df\n",
        "        if deliveredOnly == False\n",
        "        else order_df[order_df.order_status == \"delivered\"]\n",
        "    )"
      ]
    },
    {
      "cell_type": "markdown",
      "metadata": {
        "id": "yIQL981vd4d8"
      },
      "source": [
        "fungsi untuk mencari total income selama penjualan"
      ]
    },
    {
      "cell_type": "code",
      "execution_count": null,
      "metadata": {
        "id": "JaLlTalWd4IF"
      },
      "outputs": [],
      "source": [
        "def getTotalIncome(\n",
        "    order_df: pd.DataFrame, order_item_df: pd.DataFrame, deliveredOnly: bool\n",
        "):\n",
        "    order_df = (\n",
        "        order_df[order_df.order_status == \"delivered\"]\n",
        "        if deliveredOnly == True\n",
        "        else order_df\n",
        "    )\n",
        "    # asumsi saya freight cost dibayar oleh pembeli jadi tidak masuk ke pendapatan\n",
        "    df = pd.merge(order_df, order_item_df, how=\"inner\", on=\"order_id\")\n",
        "    return locale.currency(df.price.sum(), grouping=True)"
      ]
    },
    {
      "cell_type": "markdown",
      "metadata": {
        "id": "5i129pIyeExm"
      },
      "source": [
        "fungsi untuk mencari rata rata banyak item yang terjual setiap per hari"
      ]
    },
    {
      "cell_type": "code",
      "execution_count": null,
      "metadata": {
        "id": "7W3Yyp1veAPA"
      },
      "outputs": [],
      "source": [
        "def getAverageSoldItems(order_df: pd.DataFrame):\n",
        "    return (\n",
        "        order_df.groupby(by=[\"order_purchase_timestamp\"])\n",
        "        .order_purchase_timestamp.value_counts()\n",
        "        .mean()\n",
        "    )"
      ]
    },
    {
      "cell_type": "markdown",
      "metadata": {
        "id": "Sv8gOJp_eM37"
      },
      "source": [
        "fungsi untuk distribute nama produk dengan pembayaran apa yang dipakai"
      ]
    },
    {
      "cell_type": "code",
      "execution_count": 66,
      "metadata": {
        "id": "KVOknh3GeNUW"
      },
      "outputs": [
        {
          "data": {
            "text/plain": [
              "('agro_industria_e_comercio', 'boleto')"
            ]
          },
          "execution_count": 66,
          "metadata": {},
          "output_type": "execute_result"
        }
      ],
      "source": [
        "def getProductPaymentDistribute(\n",
        "    product_df: pd.DataFrame,\n",
        "    order_items_df: pd.DataFrame,\n",
        "    order_payments_df: pd.DataFrame,\n",
        "):\n",
        "    df = pd.merge(product_df, order_items_df, how=\"inner\", on=\"product_id\")\n",
        "    df = pd.merge(df, order_payments_df, how=\"inner\", on=\"order_id\")\n",
        "    return df.groupby(by=[\"product_category_name\", \"payment_type\"]).payment_type.count()\n",
        "\n",
        "getProductPaymentDistribute(\n",
        "        products, order_items, order_payments\n",
        "    ).index[0]"
      ]
    },
    {
      "cell_type": "markdown",
      "metadata": {
        "id": "_0sAFPdnec-j"
      },
      "source": [
        "fungsi untuk mencari korelasi antara berat suatu produk denga harga produk itu sendiri"
      ]
    },
    {
      "cell_type": "code",
      "execution_count": null,
      "metadata": {
        "id": "WqI_r9PZeer4"
      },
      "outputs": [],
      "source": [
        "def getCorrelatProduct(product_df: pd.DataFrame, order_items_df: pd.DataFrame):\n",
        "    df = pd.merge(product_df, order_items_df, how=\"inner\", on=\"product_id\")\n",
        "    # kategorikan berdasarkan berat produk dengan rata rata harga yang didapat (top 10 barang terberat)\n",
        "    return (\n",
        "        df.groupby(by=[\"product_weight_g\"])\n",
        "        .agg({\"price\": \"mean\"})\n",
        "        .sort_values(by=[\"product_weight_g\"], ascending=False)\n",
        "        .reset_index()\n",
        "        .to_dict()\n",
        "    )"
      ]
    },
    {
      "cell_type": "markdown",
      "metadata": {
        "id": "X7b70gOGevHN"
      },
      "source": [
        "fungsi membuat dataset baru untuk keperluan rfm nanti"
      ]
    },
    {
      "cell_type": "code",
      "execution_count": null,
      "metadata": {
        "id": "LX1Qa9mmeql_"
      },
      "outputs": [],
      "source": [
        "def createRFM(order_df: pd.DataFrame, order_items_df: pd.DataFrame):\n",
        "    df = pd.merge(order_df, order_items_df, how=\"inner\", on=\"order_id\")\n",
        "    last_purchase = order_df.order_purchase_timestamp.max()\n",
        "    df = (\n",
        "        df.groupby(\"customer_id\")\n",
        "        .agg(\n",
        "            {\n",
        "                \"order_purchase_timestamp\": lambda x: (last_purchase - x).max().days,\n",
        "                \"order_id\": \"count\",\n",
        "                \"price\": \"sum\",\n",
        "            }\n",
        "        )\n",
        "        .reset_index()\n",
        "    )\n",
        "    df.columns = [\"customer_id\", \"recency\", \"frequency\", \"monetary\"]\n",
        "    df.customer_id = df.customer_id.apply(lambda x: x[:5])\n",
        "    return df"
      ]
    },
    {
      "cell_type": "markdown",
      "metadata": {},
      "source": [
        "fungsi untuk mengambil data negara dengan penjualan terbanyak"
      ]
    },
    {
      "cell_type": "code",
      "execution_count": null,
      "metadata": {},
      "outputs": [],
      "source": [
        "def getMostSellestCountries(\n",
        "    order_df: pd.DataFrame, order_items_df: pd.DataFrame, seller_df: pd.DataFrame\n",
        "):\n",
        "    df = pd.merge(\n",
        "        order_df[order_df.order_status != \"canceled\"],\n",
        "        order_items_df,\n",
        "        how=\"inner\",\n",
        "        on=\"order_id\",\n",
        "    )\n",
        "    df = pd.merge(\n",
        "        df,\n",
        "        seller_df,\n",
        "        how=\"inner\",\n",
        "        on=\"seller_id\",\n",
        "    )\n",
        "    return (\n",
        "        df.groupby(by=[\"seller_state\"])\n",
        "        .seller_state.count()\n",
        "        .sort_values(ascending=False)\n",
        "    )"
      ]
    },
    {
      "cell_type": "markdown",
      "metadata": {},
      "source": [
        "lalu buat fungsi untuk mengkategorikan negara pembeli dan negara penjual"
      ]
    },
    {
      "cell_type": "code",
      "execution_count": null,
      "metadata": {},
      "outputs": [],
      "source": [
        "def getCorrelatBuyerSellerLocation(\n",
        "    order_df: pd.DataFrame,\n",
        "    order_items_df: pd.DataFrame,\n",
        "    customer_df: pd.DataFrame,\n",
        "    seller_df: pd.DataFrame,\n",
        "):\n",
        "    df = pd.merge(\n",
        "        order_df,\n",
        "        customer_df[[\"customer_state\", \"customer_id\"]],\n",
        "        how=\"inner\",\n",
        "        on=\"customer_id\",\n",
        "    )\n",
        "    df = pd.merge(\n",
        "        df, order_items_df[[\"order_id\", \"seller_id\"]], how=\"inner\", on=\"order_id\"\n",
        "    )\n",
        "    df = pd.merge(\n",
        "        df, seller_df[[\"seller_id\", \"seller_state\"]], how=\"inner\", on=\"seller_id\"\n",
        "    )\n",
        "\n",
        "    return df[[\"customer_state\", \"seller_state\"]]"
      ]
    },
    {
      "cell_type": "markdown",
      "metadata": {},
      "source": [
        "buat fungsi untuk mendapatkan skor review di setiap product id"
      ]
    },
    {
      "cell_type": "code",
      "execution_count": null,
      "metadata": {},
      "outputs": [],
      "source": [
        "def getProductReview(\n",
        "    products_df: pd.DataFrame,\n",
        "    order_items_df: pd.DataFrame,\n",
        "    order_reviews_df: pd.DataFrame,\n",
        "):\n",
        "    df = pd.merge(order_items_df, order_reviews_df, how=\"inner\", on=\"order_id\")\n",
        "    df = pd.merge(\n",
        "        df,\n",
        "        products_df[[\"product_id\", \"product_category_name\"]],\n",
        "        how=\"inner\",\n",
        "        on=\"product_id\",\n",
        "    )\n",
        "\n",
        "    return df[[\"product_id\", \"review_score\"]].groupby(by=[\"product_id\"])"
      ]
    },
    {
      "cell_type": "markdown",
      "metadata": {},
      "source": [
        "buat fungsi untuk mencari korelasi antara panjang produk deskripsi dengan skor reviewnya"
      ]
    },
    {
      "cell_type": "code",
      "execution_count": null,
      "metadata": {},
      "outputs": [],
      "source": [
        "def getCorrelatProductDescWithReview(\n",
        "    products_df: pd.DataFrame,\n",
        "    order_df: pd.DataFrame,\n",
        "    order_items_df: pd.DataFrame,\n",
        "    order_reviews_df: pd.DataFrame,\n",
        "):\n",
        "    df = pd.merge(\n",
        "        order_df[order_df.order_status == \"delivered\"],\n",
        "        order_items_df[[\"order_id\", \"product_id\", \"price\"]],\n",
        "        how=\"inner\",\n",
        "        on=\"order_id\",\n",
        "    )\n",
        "    df = pd.merge(\n",
        "        df,\n",
        "        products_df[[\"product_id\", \"product_description_lenght\"]],\n",
        "        how=\"inner\",\n",
        "        on=\"product_id\",\n",
        "    )\n",
        "    df = pd.merge(\n",
        "        df, order_reviews_df[[\"order_id\", \"review_score\"]], how=\"inner\", on=\"order_id\"\n",
        "    )\n",
        "\n",
        "    return (\n",
        "        df[[\"product_id\", \"product_description_lenght\", \"review_score\"]]\n",
        "        .groupby(by=[\"product_id\"])\n",
        "        .agg({\"review_score\": \"mean\", \"product_description_lenght\": \"mean\"})\n",
        "        .sort_values(by=[\"product_description_lenght\"], ascending=False)\n",
        "        .reset_index()\n",
        "    )"
      ]
    },
    {
      "cell_type": "markdown",
      "metadata": {},
      "source": [
        "buat fungsi untuk mendapatkan berapa banyak produk itu yang sudah terjual (hanya yang telah sampai ke penerima)\n",
        "saya khususkan status delivered untuk memastikan pembeli sudah bisa mengirimkan ulasan"
      ]
    },
    {
      "cell_type": "code",
      "execution_count": null,
      "metadata": {},
      "outputs": [],
      "source": [
        "def getSoldProduct(order_df: pd.DataFrame, order_items_df: pd.DataFrame):\n",
        "    df = pd.merge(\n",
        "        order_df[order_df.order_status == \"delivered\"],\n",
        "        order_items_df,\n",
        "        how=\"inner\",\n",
        "        on=\"order_id\",\n",
        "    )\n",
        "    return (\n",
        "        df.groupby(by=[\"product_id\"])\n",
        "        .order_id.count()\n",
        "        .rename({\"order_id\": \"total_penjualan\"})\n",
        "    )"
      ]
    },
    {
      "cell_type": "markdown",
      "metadata": {
        "id": "EhN5R4hr8DC1"
      },
      "source": [
        "### Cleaning Data"
      ]
    },
    {
      "cell_type": "markdown",
      "metadata": {},
      "source": [
        "hapus semua data duplikat dengan fungsi _drop\\_duplicates_"
      ]
    },
    {
      "cell_type": "code",
      "execution_count": null,
      "metadata": {
        "id": "--62PwSUe-zd"
      },
      "outputs": [],
      "source": [
        "\n",
        "def clean_data(df: pd.DataFrame):\n",
        "    return df.drop_duplicates()"
      ]
    },
    {
      "cell_type": "markdown",
      "metadata": {},
      "source": [
        "bersihkan semua data dengan fungsi yang baru dibuat"
      ]
    },
    {
      "cell_type": "code",
      "execution_count": null,
      "metadata": {
        "id": "jVnYpprE9Evz"
      },
      "outputs": [],
      "source": [
        "customers = clean_data(pd.read_csv(\"customers_dataset.csv\"))\n",
        "sellers = clean_data(pd.read_csv(\"sellers_dataset.csv\"))\n",
        "order_items = clean_data(pd.read_csv(\"order_items_dataset.csv\"))\n",
        "order_payments = clean_data(pd.read_csv(\"order_payments_dataset.csv\"))\n",
        "order_reviews = clean_data(pd.read_csv(\"order_reviews_dataset.csv\"))\n",
        "orders = clean_data(pd.read_csv(\"orders_dataset.csv\"))\n",
        "product_translation = clean_data(pd.read_csv(\"product_category_name_translation.csv\"))\n",
        "products = clean_data(pd.read_csv(\"products_dataset.csv\"))"
      ]
    },
    {
      "cell_type": "markdown",
      "metadata": {
        "id": "gp-Y6wU38DC1"
      },
      "source": [
        "## Exploratory Data Analysis (EDA)"
      ]
    },
    {
      "cell_type": "markdown",
      "metadata": {
        "id": "MW7WF2kr8DC1"
      },
      "source": [
        "### Explore ..."
      ]
    },
    {
      "cell_type": "markdown",
      "metadata": {
        "id": "N7fsTZuUfVP7"
      },
      "source": [
        "ubah kolom index ke 3 dan seterusnya menjadi dtype datetime"
      ]
    },
    {
      "cell_type": "markdown",
      "metadata": {},
      "source": [
        "ubah kolom ke 3 dan seterusnya dari tabel orders ke tipe datetime"
      ]
    },
    {
      "cell_type": "code",
      "execution_count": null,
      "metadata": {
        "id": "e9CQCZjk8DC2"
      },
      "outputs": [],
      "source": [
        "for i in orders.columns.tolist()[3:]:\n",
        "    orders[i] = pd.to_datetime(orders[i])"
      ]
    },
    {
      "cell_type": "markdown",
      "metadata": {},
      "source": [
        "dapatkan tanggal paling awal dan akhir di semua penjualan"
      ]
    },
    {
      "cell_type": "code",
      "execution_count": null,
      "metadata": {
        "id": "vXdY7Myuf-My"
      },
      "outputs": [],
      "source": [
        "first_date_order = orders.order_purchase_timestamp.min()\n",
        "last_date_order = orders.order_purchase_timestamp.max()"
      ]
    },
    {
      "cell_type": "markdown",
      "metadata": {},
      "source": [
        "buat sidebar untuk memilih range tanggal data yang mau ditampilkan (bisa untuk cek orderan (opsional))"
      ]
    },
    {
      "cell_type": "code",
      "execution_count": null,
      "metadata": {
        "id": "3c6rzEcAgGmy"
      },
      "outputs": [],
      "source": [
        "with st.sidebar:\n",
        "    first_date, last_date = st.date_input(\n",
        "        label=\"Plese select date range\",\n",
        "        value=[first_date_order, last_date_order],\n",
        "        max_value=last_date_order,\n",
        "        min_value=first_date_order,\n",
        "    )\n",
        "    search = st.text_input(\"Check Order ID\")\n",
        "    with st.expander(\"Result: \"):\n",
        "        st.write(orders.loc[search == orders.order_id])"
      ]
    },
    {
      "cell_type": "markdown",
      "metadata": {},
      "source": [
        "filter data order agar hanya tampil sesuai range tanggal"
      ]
    },
    {
      "cell_type": "code",
      "execution_count": null,
      "metadata": {
        "id": "tZZV2ZSQgRgW"
      },
      "outputs": [],
      "source": [
        "filtered_orders = orders[\n",
        "    (orders[\"order_purchase_timestamp\"] >= str(first_date))\n",
        "    & (orders[\"order_purchase_timestamp\"] <= str(last_date))\n",
        "]\n",
        "filtered_orders_items = pd.merge(\n",
        "    order_items, filtered_orders, how=\"inner\", on=\"order_id\"\n",
        ")"
      ]
    },
    {
      "cell_type": "markdown",
      "metadata": {
        "id": "zsyZjqak8DC2"
      },
      "source": [
        "## Visualization & Explanatory Analysis"
      ]
    },
    {
      "cell_type": "markdown",
      "metadata": {},
      "source": [
        "buat header agar bagus"
      ]
    },
    {
      "cell_type": "code",
      "execution_count": null,
      "metadata": {
        "id": "e15mZTrIgeyz"
      },
      "outputs": [],
      "source": [
        "st.header(\"E-Commerce Report\")"
      ]
    },
    {
      "cell_type": "markdown",
      "metadata": {
        "id": "HZxOiQ6n8DC2"
      },
      "source": [
        "### Pertanyaan 1: Bagaimana dengan analisis penjualan?"
      ]
    },
    {
      "cell_type": "code",
      "execution_count": null,
      "metadata": {
        "id": "1swJUdAD8DC2"
      },
      "outputs": [],
      "source": [
        "\n",
        "st.subheader(\"Analisa Penjualan\")\n",
        "col = st.columns([3, 3, 2], gap=\"medium\")\n",
        "\n",
        "with col[0]:\n",
        "    st.metric(label=\"Total Penjualan\", value=getTotalOrder(filtered_orders, False))\n",
        "    st.metric(\n",
        "        label=\"Total Penjualan (Delivered Only)\",\n",
        "        value=getTotalOrder(filtered_orders, True),\n",
        "    )\n",
        "\n",
        "with col[1]:\n",
        "    st.metric(\n",
        "        label=\"Total Pendapatan\",\n",
        "        value=getTotalIncome(filtered_orders, order_items, False),\n",
        "    )\n",
        "    st.metric(\n",
        "        label=\"Total Pendapatan (Delivered Only)\",\n",
        "        value=getTotalIncome(filtered_orders, order_items, True),\n",
        "    )\n",
        "\n",
        "with col[2]:\n",
        "    val = getAverageSoldItems(filtered_orders)\n",
        "    st.metric(\n",
        "        label=\"Rata-Rata Barang Terjual Per-Hari\",\n",
        "        value=0 if str(val) == \"nan\" else round(val, 1),\n",
        "    )"
      ]
    },
    {
      "cell_type": "markdown",
      "metadata": {
        "id": "DgHI7CiU8DC2"
      },
      "source": [
        "### Pertanyaan 2: Produk apa yang mempunyai qty terbanyak?"
      ]
    },
    {
      "cell_type": "code",
      "execution_count": null,
      "metadata": {},
      "outputs": [],
      "source": [
        "st.subheader(\"Analisa Produk\")"
      ]
    },
    {
      "cell_type": "code",
      "execution_count": null,
      "metadata": {
        "id": "Go0lCsvO8DC2"
      },
      "outputs": [],
      "source": [
        "col = st.columns(2, gap=\"medium\")\n",
        "with col[0]:\n",
        "    st.write(\"Top 10 Product E-Commerce Terbanyak\")\n",
        "\n",
        "    fig, ax = plt.subplots()\n",
        "    product_frequent = (\n",
        "        products.groupby(by=[\"product_category_name\"])\n",
        "        .product_category_name.count()\n",
        "        .sort_values(ascending=False)\n",
        "        .head(7)\n",
        "        .to_dict()\n",
        "    )\n",
        "    product_frequent = dict(\n",
        "        sorted(product_frequent.items(), key=lambda x: x[1], reverse=True)\n",
        "    )\n",
        "    plt.pie(\n",
        "        x=product_frequent.values(),\n",
        "        labels=product_frequent.keys(),\n",
        "        autopct=\"%1.1f%%\",\n",
        "        explode=list(\n",
        "            map(\n",
        "                lambda x: 0.2 if x == max(product_frequent.values()) else 0,\n",
        "                product_frequent.values(),\n",
        "            )\n",
        "        ),\n",
        "    )\n",
        "\n",
        "    st.pyplot(fig)"
      ]
    },
    {
      "cell_type": "markdown",
      "metadata": {
        "id": "nN6ufHOLhJDS"
      },
      "source": [
        "### Pertanyaan 3: Produk apa yang memiliki penjualan terbanyak?"
      ]
    },
    {
      "cell_type": "code",
      "execution_count": null,
      "metadata": {
        "id": "qfg5n0dch9G2"
      },
      "outputs": [],
      "source": [
        "with col[1]:\n",
        "    st.write(\"Kategori Produk dengan Penjualan Terbanyak\")\n",
        "\n",
        "    fig, ax = plt.subplots()\n",
        "    mostSoldItem = getMostSoldItems(\n",
        "        product_df=products, order_items_df=order_items\n",
        "    ).to_dict()\n",
        "    plt.barh(y=list(mostSoldItem.keys()), width=list(mostSoldItem.values()))\n",
        "    plt.xlabel(\"Total Penjualan\")\n",
        "    st.pyplot(fig)"
      ]
    },
    {
      "cell_type": "markdown",
      "metadata": {
        "id": "rsxcxl2UhvMW"
      },
      "source": [
        "### Pertanyaan 4: Bagaimana korelasi antara berat produk dan harga produk?"
      ]
    },
    {
      "cell_type": "code",
      "execution_count": null,
      "metadata": {
        "id": "g50J50RDhth3"
      },
      "outputs": [],
      "source": [
        "st.write(\"Korelasi Berat Produk dengan Harga Produk\")\n",
        "fig, ax = plt.subplots()\n",
        "data = getCorrelatProduct(products, order_items)\n",
        "sn.scatterplot(x=data[\"product_weight_g\"].values(), y=data[\"price\"].values())\n",
        "plt.xlabel(\"Berat Produk (gram)\")\n",
        "plt.ylabel(\"Harga (USD)\")\n",
        "st.pyplot(fig)"
      ]
    },
    {
      "cell_type": "markdown",
      "metadata": {},
      "source": [
        "dapatkan nilai korelasinya"
      ]
    },
    {
      "cell_type": "code",
      "execution_count": null,
      "metadata": {},
      "outputs": [],
      "source": [
        "print(\n",
        "    Pearson_correlation(\n",
        "        np.array(list(data[\"product_weight_g\"].values())),\n",
        "        np.array(list(data[\"price\"].values())),\n",
        "    )\n",
        ")"
      ]
    },
    {
      "cell_type": "markdown",
      "metadata": {},
      "source": [
        "### Pertanyaan 5: Metode penjualan apa yang sering dipakai oleh customer?"
      ]
    },
    {
      "cell_type": "code",
      "execution_count": null,
      "metadata": {},
      "outputs": [],
      "source": [
        "st.subheader(\"Analisa Metode Pembayaran\")"
      ]
    },
    {
      "cell_type": "code",
      "execution_count": null,
      "metadata": {},
      "outputs": [],
      "source": [
        "with st.container():\n",
        "\n",
        "    payDistribute = getProductPaymentDistribute(\n",
        "        products, order_items, order_payments\n",
        "    ).to_dict()\n",
        "    method_payment = [\"boleto\", \"credit_card\", \"debit_card\", \"voucher\"]\n",
        "\n",
        "    temp = {}\n",
        "    for k, v in payDistribute.items():\n",
        "        if k[0] in mostSoldItem.keys():\n",
        "            if k[0] not in temp.keys():\n",
        "                temp[k[0]] = {}\n",
        "            temp[k[0]][k[1]] = v\n",
        "\n",
        "    # fill another method with 0\n",
        "    for k, v in temp.items():\n",
        "        for i in method_payment:\n",
        "            if i not in v.keys():\n",
        "                temp[k][i] = 0\n",
        "\n",
        "    barWidth = 0.25\n",
        "    fig, ax = plt.subplots()\n",
        "\n",
        "    boleto = list(map(lambda x: x[\"boleto\"], temp.values()))\n",
        "    credit_card = list(map(lambda x: x[\"credit_card\"], temp.values()))\n",
        "    debit_card = list(map(lambda x: x[\"debit_card\"], temp.values()))\n",
        "    voucher = list(map(lambda x: x[\"voucher\"], temp.values()))\n",
        "\n",
        "    br1 = np.arange(len(boleto))\n",
        "    br2 = [x + barWidth for x in br1]\n",
        "    br3 = [x + barWidth for x in br2]\n",
        "    br4 = [x + barWidth for x in br3]\n",
        "\n",
        "    plt.barh(br1, boleto, color=\"r\", height=barWidth, edgecolor=\"grey\", label=\"Boleto\")\n",
        "    plt.barh(\n",
        "        br2,\n",
        "        credit_card,\n",
        "        color=\"g\",\n",
        "        height=barWidth,\n",
        "        edgecolor=\"grey\",\n",
        "        label=\"Credit Card\",\n",
        "    )\n",
        "    plt.barh(\n",
        "        br3,\n",
        "        debit_card,\n",
        "        color=\"b\",\n",
        "        height=barWidth,\n",
        "        edgecolor=\"grey\",\n",
        "        label=\"Debit Card\",\n",
        "    )\n",
        "    plt.barh(\n",
        "        br4,\n",
        "        voucher,\n",
        "        color=\"hotpink\",\n",
        "        height=barWidth,\n",
        "        edgecolor=\"grey\",\n",
        "        label=\"Voucher\",\n",
        "    )\n",
        "\n",
        "    plt.ylabel(\"Product Name\")\n",
        "    plt.xlabel(\"Banyak Pemakaian\")\n",
        "    plt.yticks([r + barWidth for r in range(len(boleto))], mostSoldItem.keys())\n",
        "    plt.legend()\n",
        "\n",
        "    st.pyplot(fig)"
      ]
    },
    {
      "cell_type": "markdown",
      "metadata": {},
      "source": [
        "### Pertanyaan 7: Bagaimana skor ulasan untuk setiap produk? dan produk apa yang layak menjadi 'best seller' untuk masing-masing kategori?"
      ]
    },
    {
      "cell_type": "code",
      "execution_count": null,
      "metadata": {},
      "outputs": [],
      "source": [
        "st.subheader(\"Analisa Kualitas Produk\")\n",
        "\n",
        "chooseProductCategory = st.selectbox(\n",
        "    label=\"Pilih kategori produk\",\n",
        "    options=dict.fromkeys(products.product_category_name.sort_values()),\n",
        ")\n",
        "scoreReview = [i for i in range(1, 6)]\n",
        "\n",
        "st.code(f\"Produk Best Seller dari Kategori {chooseProductCategory}\")\n",
        "\n",
        "data = getProductReview(\n",
        "    products[products.product_category_name == chooseProductCategory],\n",
        "    order_items,\n",
        "    order_reviews,\n",
        ")\n",
        "qtySoldProduct = getSoldProduct(orders, order_items)\n",
        "\n",
        "produkReview = decode_dict(data.value_counts().to_dict())\n",
        "\n",
        "for k, v in produkReview.items():\n",
        "    for j in scoreReview:\n",
        "        if j not in v.keys():\n",
        "            produkReview[k][j] = 0\n",
        "\n",
        "data = pd.merge(\n",
        "    data.agg({\"review_score\": \"count\"}),\n",
        "    data.agg({\"review_score\": \"mean\"}),\n",
        "    how=\"inner\",\n",
        "    on=\"product_id\",\n",
        ")\n",
        "data.rename(\n",
        "    columns={\"review_score_x\": \"total_penilaian\", \"review_score_y\": \"review_score\"},\n",
        "    inplace=True,\n",
        ")\n",
        "data[\"review_list\"] = produkReview.values()\n",
        "data.sort_values(by=[\"total_penilaian\", \"review_score\"], ascending=False, inplace=True)\n",
        "\n",
        "col = st.columns(2)\n",
        "for i in range(len(col)):\n",
        "    with col[i]:\n",
        "        index = data.index.values[i]\n",
        "        st.write(f\"Produk ID : {index}\")\n",
        "        st.write(\n",
        "            f\"{round(data.at[index,'review_score'],1)}:star: ({data.at[index,'total_penilaian']} Ulasan, {qtySoldProduct.loc[index]} Penjualan)\"\n",
        "        )\n",
        "        inner_col = st.columns(5)\n",
        "        for j in range(len(inner_col)):\n",
        "            with inner_col[j]:\n",
        "                st.button(\n",
        "                    label=f\"{j+1}:star: ({data.at[index, 'review_list'][j+1]})\",\n",
        "                    disabled=True,\n",
        "                    key=np.random.random(),\n",
        "                )"
      ]
    },
    {
      "cell_type": "markdown",
      "metadata": {},
      "source": [
        "### Pertanyaan 8: Bagaimana korelasi antara panjang deskripsi suatu produk terhadap skor ulasannya?"
      ]
    },
    {
      "cell_type": "code",
      "execution_count": null,
      "metadata": {},
      "outputs": [],
      "source": [
        "st.write(\"Korelasi Panjang Deskripsi Produk dengan Tingkat Kepuasan Pelanggan\")\n",
        "\n",
        "data = getCorrelatProductDescWithReview(\n",
        "    products, orders, order_items, order_reviews\n",
        ").to_dict()\n",
        "fig, ax = plt.subplots()\n",
        "\n",
        "sn.scatterplot(\n",
        "    x=data[\"product_description_lenght\"].values(), y=data[\"review_score\"].values()\n",
        ")\n",
        "\n",
        "plt.xlabel(\"Panjang Deskripsi Produk (Letter)\")\n",
        "plt.ylabel(\"Score Review (Mean)\")\n",
        "st.pyplot(fig)"
      ]
    },
    {
      "cell_type": "markdown",
      "metadata": {},
      "source": [
        "dapatkan nilai korelasinya"
      ]
    },
    {
      "cell_type": "code",
      "execution_count": null,
      "metadata": {},
      "outputs": [],
      "source": [
        "print(\n",
        "    Pearson_correlation(\n",
        "        np.array(list(data[\"product_description_lenght\"].values())),\n",
        "        np.array(list(data[\"review_score\"].values())),\n",
        "    )\n",
        ")"
      ]
    },
    {
      "cell_type": "markdown",
      "metadata": {},
      "source": [
        "### Pertanyaan 6: Negara Bagian mana yang memiliki total pembelian/customer terbanyak?"
      ]
    },
    {
      "cell_type": "code",
      "execution_count": null,
      "metadata": {},
      "outputs": [],
      "source": [
        "st.subheader(\"Geolocate Analysis\")"
      ]
    },
    {
      "cell_type": "code",
      "execution_count": null,
      "metadata": {},
      "outputs": [],
      "source": [
        "data = getMostSellestCountries(orders, order_items, sellers).to_dict()\n",
        "list_state = [f\"{k} ({v} Pembelian)\" for k, v in data.items()]\n",
        "\n",
        "st.write(\"Negara Bagian dengan Penjualan Produk Terbanyak\")\n",
        "data = (\n",
        "    getCorrelatBuyerSellerLocation(orders, order_items, customers, sellers)\n",
        "    .groupby(by=[\"seller_state\"])\n",
        "    .value_counts()\n",
        "    .to_dict()\n",
        ")\n",
        "temp = {}\n",
        "for k, v in data.items():\n",
        "    if k[0] not in temp.keys():\n",
        "        temp[k[0]] = {}\n",
        "    temp[k[0]][k[1]] = v\n",
        "\n",
        "seller_state_option = st.selectbox(label=\"Negara Penjual\", options=list_state)\n",
        "\n",
        "if seller_state_option != None:\n",
        "    with st.container():\n",
        "        fig, ax = plt.subplots(nrows=1, ncols=1)\n",
        "        plt.bar(\n",
        "            x=temp[seller_state_option.split(\" \")[0]].keys(),\n",
        "            height=temp[seller_state_option.split(\" \")[0]].values(),\n",
        "        )\n",
        "        ax.set_xlabel(\"Negara Pembeli\")\n",
        "        ax.set_ylabel(\"Total Pembelian\")\n",
        "        ax.set_title(\"Distribusi Negara Penjual dengan Negara Pembeli\")\n",
        "        plt.xticks(rotation=60)\n",
        "        st.pyplot(fig)"
      ]
    },
    {
      "cell_type": "markdown",
      "metadata": {
        "id": "_WeHlCeX8DC2"
      },
      "source": [
        "## Conclusion"
      ]
    },
    {
      "cell_type": "markdown",
      "metadata": {
        "id": "ZTcyR48Y8DC2"
      },
      "source": [
        "- Bagaimana dengan analisis penjualan?\n",
        "    - Data terlampir pada grafik di web\n",
        "- Produk apa yang mempunyai qty terbanyak?\n",
        "    - Bed Bath Table\n",
        "- Produk apa yang memiliki penjualan terbanyak?\n",
        "    - Bed Bath Table\n",
        "- Bagaimana korelasi antara berat produk dan harga produk?\n",
        "    - Dari perhitungan korelasi menggunakan metode 'Pearson' didapatkan 0.3628048291593886 yang mana berarti termasuk _Positive Correlation_ atau memiliki korelasi yang kuat atau cukup bersesuaian\n",
        "- Metode penjualan apa yang sering dipakai oleh customer?\n",
        "    - Credit Card\n",
        "- Negara apa yang memiliki total pembelian/customer terbanyak?\n",
        "    - SP (São Paulo)\n",
        "- Bagaimana skor ulasan untuk setiap produk? dan produk apa yang layak menjadi 'best seller' untuk masing-masing kategori?\n",
        "    - Untuk detail lengkapnya ada di dalam dashboard\n",
        "- Bagaimana korelasi antara panjang deskripsi suatu produk terhadap skor ulasannya?\n",
        "    - Didapatkan 0.02878979835027682 sebagai nilai korelasi dan termasuk _Positive Correlation_ bisa dikatakan memiliki korelasi yang cukup lemah atau hampir tidak bersesuaian"
      ]
    },
    {
      "cell_type": "markdown",
      "metadata": {
        "id": "g82H4kQ4i0QB"
      },
      "source": [
        "# RFM Analysis\n",
        "\n"
      ]
    },
    {
      "cell_type": "code",
      "execution_count": null,
      "metadata": {},
      "outputs": [],
      "source": [
        "st.subheader(\"RFM Analysis\")"
      ]
    },
    {
      "cell_type": "code",
      "execution_count": null,
      "metadata": {
        "id": "tik2ZrYqi5L2"
      },
      "outputs": [],
      "source": [
        "rfm_df = createRFM(orders, order_items)\n",
        "\n",
        "col = st.columns(3, gap=\"large\")\n",
        "\n",
        "with col[0]:\n",
        "    fig, ax = plt.subplots(nrows=1, ncols=1)\n",
        "    avg_recency = round(rfm_df.recency.mean(), 2)\n",
        "    st.metric(\"Avg Ketepatan Waktu Pembelian\", value=avg_recency)\n",
        "    data = rfm_df.sort_values(by=\"recency\").reset_index().head(10)\n",
        "    plt.bar(x=data.customer_id, height=data.recency)\n",
        "    ax.set_xlabel(\"Customer ID\")\n",
        "    ax.set_ylabel(\"Recency\")\n",
        "    ax.set_title(\"Recency Distribution\")\n",
        "    st.pyplot(fig)\n",
        "\n",
        "with col[1]:\n",
        "    fig, ax = plt.subplots(nrows=1, ncols=1)\n",
        "    avg_frequency = round(rfm_df.frequency.mean(), 2)\n",
        "    st.metric(\"Avg Frekuensi Pembelian\", value=avg_frequency)\n",
        "    data = rfm_df.sort_values(by=\"frequency\", ascending=False).reset_index().head(10)\n",
        "    plt.bar(x=data.customer_id, height=data.frequency)\n",
        "    ax.set_xlabel(\"Customer ID\")\n",
        "    ax.set_ylabel(\"Frequency\")\n",
        "    ax.set_title(\"Frequency Distribution\")\n",
        "    st.pyplot(fig)\n",
        "\n",
        "with col[2]:\n",
        "    fig, ax = plt.subplots(nrows=1, ncols=1)\n",
        "    avg_moneter = locale.currency(round(rfm_df.monetary.mean()), grouping=True)\n",
        "    st.metric(\"Avg Moneter Pembelian\", value=avg_moneter)\n",
        "    data = rfm_df.sort_values(by=\"monetary\", ascending=False).reset_index().head(10)\n",
        "    plt.bar(x=data.customer_id, height=data.monetary)\n",
        "    ax.set_xlabel(\"Customer ID\")\n",
        "    ax.set_ylabel(\"Monetary\")\n",
        "    ax.set_title(\"Monetary Distribution\")\n",
        "    st.pyplot(fig)\n",
        "\n",
        "# formula from gfg source\n",
        "rfm_df[\"R_rank\"] = rfm_df.recency.rank(ascending=False)\n",
        "rfm_df[\"F_rank\"] = rfm_df.frequency.rank(ascending=True)\n",
        "rfm_df[\"M_rank\"] = rfm_df.monetary.rank(ascending=True)\n",
        "\n",
        "rfm_df[\"R_rank_norm\"] = (rfm_df[\"R_rank\"] / rfm_df[\"R_rank\"].max()) * 100\n",
        "rfm_df[\"F_rank_norm\"] = (rfm_df[\"F_rank\"] / rfm_df[\"F_rank\"].max()) * 100\n",
        "rfm_df[\"M_rank_norm\"] = (rfm_df[\"F_rank\"] / rfm_df[\"M_rank\"].max()) * 100\n",
        "\n",
        "rfm_df.drop(columns=[\"R_rank\", \"F_rank\", \"M_rank\"], inplace=True)\n",
        "\n",
        "rfm_df[\"RFM_Score\"] = (\n",
        "    0.15 * rfm_df[\"R_rank_norm\"]\n",
        "    + 0.28 * rfm_df[\"F_rank_norm\"]\n",
        "    + 0.57 * rfm_df[\"M_rank_norm\"]\n",
        ")\n",
        "rfm_df[\"RFM_Score\"] *= 0.05\n",
        "rfm_df = rfm_df.round(2).sort_values(by=\"RFM_Score\", ascending=False).reset_index()\n",
        "\n",
        "st.write(\"Top 10 Highest RFM Score\")\n",
        "st.write(rfm_df[[\"customer_id\", \"RFM_Score\"]].head(10).transpose())"
      ]
    },
    {
      "cell_type": "markdown",
      "metadata": {},
      "source": [
        "RFM_score > 4.5     ==> Top Customer\n",
        "4.5 > RFM_score > 4 ==> High Value Customer\n",
        "4 > RFM_score > 3   ==> Medium Value Customer\n",
        "3 > RFM_score > 1.6 ==> Low Value Customer\n",
        "RFM_score < 1.6     ==> Lost Customer"
      ]
    }
  ],
  "metadata": {
    "colab": {
      "provenance": []
    },
    "kernelspec": {
      "display_name": "venv",
      "language": "python",
      "name": "python3"
    },
    "language_info": {
      "codemirror_mode": {
        "name": "ipython",
        "version": 3
      },
      "file_extension": ".py",
      "mimetype": "text/x-python",
      "name": "python",
      "nbconvert_exporter": "python",
      "pygments_lexer": "ipython3",
      "version": "3.11.2"
    },
    "orig_nbformat": 4
  },
  "nbformat": 4,
  "nbformat_minor": 0
}
